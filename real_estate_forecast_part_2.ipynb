{
 "cells": [
  {
   "cell_type": "markdown",
   "metadata": {
    "cellId": "x70k2i9xatp88ttj3qv7zj",
    "execution_id": "9b7f16c4-f50b-4283-9b0a-aea352803d67"
   },
   "source": [
    "# Кодирование и нормализация признаков"
   ]
  },
  {
   "cell_type": "markdown",
   "metadata": {
    "cellId": "pr4hjc24rglqph4dkn1iqa",
    "execution_id": "89b0db52-4358-416d-8e80-639e1b8770e9"
   },
   "source": [
    "На данном этапе подготовим данные для подачи их в модель машинного обучения"
   ]
  },
  {
   "cell_type": "code",
   "execution_count": 134,
   "metadata": {
    "cellId": "u07djrgiwy0yqgderblj1g"
   },
   "outputs": [
    {
     "name": "stderr",
     "output_type": "stream",
     "text": [
      "<ipython-input-2-08862bdf32ce>:11: MatplotlibDeprecationWarning: The seaborn styles shipped by Matplotlib are deprecated since 3.6, as they no longer correspond to the styles shipped by seaborn. However, they will remain available as 'seaborn-v0_8-<style>'. Alternatively, directly use the seaborn API instead.\n",
      "  plt.style.use('seaborn') #установка стиля matplotlib\n"
     ]
    }
   ],
   "source": [
    "# Импортируем необходимые для работы библиотеки\n",
    "\n",
    "import pandas as pd\n",
    "import numpy as np\n",
    "import re\n",
    "import statistics as st\n",
    "\n",
    "import matplotlib.pyplot as plt\n",
    "import seaborn as sns\n",
    "%matplotlib inline\n",
    "plt.style.use('seaborn')\n",
    "import warnings\n",
    "warnings.filterwarnings('ignore')\n",
    "\n",
    "import category_encoders as ce\n",
    "from scipy.stats import shapiro, normaltest \n",
    "import sklearn.metrics as metrics\n",
    "from sklearn import feature_selection\n",
    "from sklearn.model_selection import cross_val_score, GridSearchCV, train_test_split\n",
    "from sklearn.preprocessing import LabelEncoder\n",
    "from sklearn.preprocessing import PolynomialFeatures, RobustScaler\n",
    "from sklearn.linear_model import LinearRegression\n",
    "from sklearn.tree import DecisionTreeRegressor\n",
    "from sklearn.ensemble import AdaBoostRegressor, GradientBoostingRegressor, RandomForestRegressor\n",
    "from catboost import CatBoostRegressor\n",
    "import optuna"
   ]
  },
  {
   "cell_type": "code",
   "execution_count": 135,
   "metadata": {
    "cellId": "355cmxkbgac20ax0sv7c2r"
   },
   "outputs": [
    {
     "data": {
      "text/html": [
       "<div>\n",
       "<style scoped>\n",
       "    .dataframe tbody tr th:only-of-type {\n",
       "        vertical-align: middle;\n",
       "    }\n",
       "\n",
       "    .dataframe tbody tr th {\n",
       "        vertical-align: top;\n",
       "    }\n",
       "\n",
       "    .dataframe thead th {\n",
       "        text-align: right;\n",
       "    }\n",
       "</style>\n",
       "<table border=\"1\" class=\"dataframe\">\n",
       "  <thead>\n",
       "    <tr style=\"text-align: right;\">\n",
       "      <th></th>\n",
       "      <th>baths</th>\n",
       "      <th>fireplace</th>\n",
       "      <th>sqft</th>\n",
       "      <th>zipcode</th>\n",
       "      <th>stories</th>\n",
       "      <th>target</th>\n",
       "      <th>year_built</th>\n",
       "      <th>heating</th>\n",
       "      <th>cooling</th>\n",
       "      <th>parking</th>\n",
       "      <th>private_pool</th>\n",
       "      <th>school_rating</th>\n",
       "      <th>school_min_distance</th>\n",
       "      <th>beds_area</th>\n",
       "      <th>baths_area</th>\n",
       "      <th>lotsize_sqft</th>\n",
       "    </tr>\n",
       "  </thead>\n",
       "  <tbody>\n",
       "    <tr>\n",
       "      <th>count</th>\n",
       "      <td>311499.000000</td>\n",
       "      <td>311499.000000</td>\n",
       "      <td>311499.000000</td>\n",
       "      <td>311499.000000</td>\n",
       "      <td>311499.000000</td>\n",
       "      <td>3.114990e+05</td>\n",
       "      <td>311499.000000</td>\n",
       "      <td>311499.000000</td>\n",
       "      <td>311499.000000</td>\n",
       "      <td>311499.000000</td>\n",
       "      <td>311499.000000</td>\n",
       "      <td>311499.000000</td>\n",
       "      <td>311499.000000</td>\n",
       "      <td>311499.000000</td>\n",
       "      <td>311499.000000</td>\n",
       "      <td>311499.000000</td>\n",
       "    </tr>\n",
       "    <tr>\n",
       "      <th>mean</th>\n",
       "      <td>2.639026</td>\n",
       "      <td>0.303535</td>\n",
       "      <td>2133.169193</td>\n",
       "      <td>52814.419282</td>\n",
       "      <td>0.862722</td>\n",
       "      <td>5.534103e+05</td>\n",
       "      <td>1980.717267</td>\n",
       "      <td>0.767784</td>\n",
       "      <td>0.715774</td>\n",
       "      <td>0.535819</td>\n",
       "      <td>0.132601</td>\n",
       "      <td>5.168097</td>\n",
       "      <td>1.035144</td>\n",
       "      <td>649.081101</td>\n",
       "      <td>813.404746</td>\n",
       "      <td>13328.026848</td>\n",
       "    </tr>\n",
       "    <tr>\n",
       "      <th>std</th>\n",
       "      <td>1.336041</td>\n",
       "      <td>0.459785</td>\n",
       "      <td>1232.017845</td>\n",
       "      <td>26762.249515</td>\n",
       "      <td>1.026193</td>\n",
       "      <td>7.823387e+05</td>\n",
       "      <td>32.434354</td>\n",
       "      <td>0.422247</td>\n",
       "      <td>0.451046</td>\n",
       "      <td>0.498716</td>\n",
       "      <td>0.339143</td>\n",
       "      <td>1.927178</td>\n",
       "      <td>1.408655</td>\n",
       "      <td>219.191253</td>\n",
       "      <td>244.190094</td>\n",
       "      <td>24371.686678</td>\n",
       "    </tr>\n",
       "    <tr>\n",
       "      <th>min</th>\n",
       "      <td>1.000000</td>\n",
       "      <td>0.000000</td>\n",
       "      <td>333.000000</td>\n",
       "      <td>1103.000000</td>\n",
       "      <td>0.000000</td>\n",
       "      <td>9.900000e+03</td>\n",
       "      <td>1800.000000</td>\n",
       "      <td>0.000000</td>\n",
       "      <td>0.000000</td>\n",
       "      <td>0.000000</td>\n",
       "      <td>0.000000</td>\n",
       "      <td>1.000000</td>\n",
       "      <td>0.020000</td>\n",
       "      <td>219.833333</td>\n",
       "      <td>312.363636</td>\n",
       "      <td>229.000000</td>\n",
       "    </tr>\n",
       "    <tr>\n",
       "      <th>25%</th>\n",
       "      <td>2.000000</td>\n",
       "      <td>0.000000</td>\n",
       "      <td>1314.000000</td>\n",
       "      <td>33056.000000</td>\n",
       "      <td>0.000000</td>\n",
       "      <td>2.149000e+05</td>\n",
       "      <td>1959.000000</td>\n",
       "      <td>1.000000</td>\n",
       "      <td>0.000000</td>\n",
       "      <td>0.000000</td>\n",
       "      <td>0.000000</td>\n",
       "      <td>3.700000</td>\n",
       "      <td>0.360000</td>\n",
       "      <td>500.000000</td>\n",
       "      <td>648.000000</td>\n",
       "      <td>4426.000000</td>\n",
       "    </tr>\n",
       "    <tr>\n",
       "      <th>50%</th>\n",
       "      <td>2.000000</td>\n",
       "      <td>0.000000</td>\n",
       "      <td>1845.000000</td>\n",
       "      <td>37406.000000</td>\n",
       "      <td>1.000000</td>\n",
       "      <td>3.350000e+05</td>\n",
       "      <td>1988.000000</td>\n",
       "      <td>1.000000</td>\n",
       "      <td>1.000000</td>\n",
       "      <td>1.000000</td>\n",
       "      <td>0.000000</td>\n",
       "      <td>5.000000</td>\n",
       "      <td>0.630000</td>\n",
       "      <td>613.333333</td>\n",
       "      <td>790.000000</td>\n",
       "      <td>7405.000000</td>\n",
       "    </tr>\n",
       "    <tr>\n",
       "      <th>75%</th>\n",
       "      <td>3.000000</td>\n",
       "      <td>1.000000</td>\n",
       "      <td>2571.000000</td>\n",
       "      <td>77845.000000</td>\n",
       "      <td>1.000000</td>\n",
       "      <td>5.790000e+05</td>\n",
       "      <td>2006.000000</td>\n",
       "      <td>1.000000</td>\n",
       "      <td>1.000000</td>\n",
       "      <td>1.000000</td>\n",
       "      <td>0.000000</td>\n",
       "      <td>6.500000</td>\n",
       "      <td>1.200000</td>\n",
       "      <td>751.687500</td>\n",
       "      <td>931.000000</td>\n",
       "      <td>11325.600000</td>\n",
       "    </tr>\n",
       "    <tr>\n",
       "      <th>max</th>\n",
       "      <td>24.000000</td>\n",
       "      <td>1.000000</td>\n",
       "      <td>10818.000000</td>\n",
       "      <td>99338.000000</td>\n",
       "      <td>3.000000</td>\n",
       "      <td>1.000000e+07</td>\n",
       "      <td>2022.000000</td>\n",
       "      <td>1.000000</td>\n",
       "      <td>1.000000</td>\n",
       "      <td>1.000000</td>\n",
       "      <td>1.000000</td>\n",
       "      <td>10.000000</td>\n",
       "      <td>26.670000</td>\n",
       "      <td>2076.400000</td>\n",
       "      <td>2277.000000</td>\n",
       "      <td>244589.400000</td>\n",
       "    </tr>\n",
       "  </tbody>\n",
       "</table>\n",
       "</div>"
      ],
      "text/plain": [
       "               baths      fireplace  ...     baths_area   lotsize_sqft\n",
       "count  311499.000000  311499.000000  ...  311499.000000  311499.000000\n",
       "mean        2.639026       0.303535  ...     813.404746   13328.026848\n",
       "std         1.336041       0.459785  ...     244.190094   24371.686678\n",
       "min         1.000000       0.000000  ...     312.363636     229.000000\n",
       "25%         2.000000       0.000000  ...     648.000000    4426.000000\n",
       "50%         2.000000       0.000000  ...     790.000000    7405.000000\n",
       "75%         3.000000       1.000000  ...     931.000000   11325.600000\n",
       "max        24.000000       1.000000  ...    2277.000000  244589.400000\n",
       "\n",
       "[8 rows x 16 columns]"
      ]
     },
     "execution_count": 135,
     "metadata": {},
     "output_type": "execute_result"
    }
   ],
   "source": [
    "data = pd.read_csv('data/data_cleaned.csv')\n",
    "data.describe()"
   ]
  },
  {
   "cell_type": "markdown",
   "metadata": {
    "cellId": "47n15lpecbcn341rp2n7vl",
    "execution_id": "1e24ce1a-573c-41dc-8116-2ecd55daa83f"
   },
   "source": [
    "### Кодирование признаков"
   ]
  },
  {
   "cell_type": "markdown",
   "metadata": {
    "cellId": "0j83rxxf9tdx0k7z0n6p89",
    "execution_id": "928c92c5-2312-4cd5-b5c2-f6e5d414c879"
   },
   "source": [
    "Строить модели будем на двух вариантах выборки: 1 - с исходными данными, 2 - с логарифмированными непрерывными числовыми признаками.\n",
    "Хотя и статистические тесты показали нам, что распределения признаков не является нормальным, но визуально оно очень близко к этому. Я считаю, что такой метод позволит при моделировании добиться более высоких позакателей в метриках."
   ]
  },
  {
   "cell_type": "code",
   "execution_count": 136,
   "metadata": {
    "cellId": "9twawday4g6p25y9jf6vd"
   },
   "outputs": [],
   "source": [
    "# Делаем копию датасета с исходными данными\n",
    "data_coded = data.copy()\n",
    "\n",
    "# Делаем вторую копию, в которой прологарифмируем числовые непрерывные признаки (кроме целевого)\n",
    "data_log_coded = data_coded.copy()\n",
    "for column in ['sqft', 'school_rating', 'beds_area', 'baths_area', 'lotsize_sqft']:\n",
    "    data_log_coded[column] = np.log(data_log_coded[column])\n",
    "data_log_coded[column] = np.log(data_log_coded['school_min_distance']+1)"
   ]
  },
  {
   "cell_type": "markdown",
   "metadata": {
    "cellId": "efhxuvtpbtmwynwxuiueh",
    "execution_id": "7e2b048d-fc8b-48ee-adfe-bc80f6ed402e"
   },
   "source": [
    "Большинство моделей машинного обучения умеет работать только на числовых признаках без пропусков. Преобразование (кодирование) данных в такой формат очень тонкий и важный этап работы.\n",
    "При определении способа кодирования придерживаемся следующего принципа:\n",
    "- непрерывные числовые признаки кодировать не нужно;\n",
    "- порядковые и бинарные признаки нужно кодировать способом Ordinal Encoding;\n",
    "- категориальные признаки с небольшим числом значений - способом OneHot Encoding;\n",
    "- категориальные признаки с большим числом значений - способом Binary Encoding."
   ]
  },
  {
   "cell_type": "markdown",
   "metadata": {
    "cellId": "xc33x1jyd6q1noxtdp4pcj",
    "execution_id": "8b0d056e-e196-45e3-a481-cd6a791523db"
   },
   "source": [
    "На практике мною было опробовано 7 вариантов кодирования данных (все опробованные варианты сохранил в файле coded_features.ipynb). Продемонстрировать прверку эффективности каждого из способов кодировки я не могу, поскольку над каждым набором кодированных данных проводил множество вариаций преобразований вплоть до построения моделей различных типов с подбором гиперпараметров, подсчетом и сравнением метрик.\n",
    "\n",
    "По итогам экспериментов выбрал как наиболее эффективный для данного набора данных алгоритм кодирования - Sample 5."
   ]
  },
  {
   "cell_type": "code",
   "execution_count": 137,
   "metadata": {
    "cellId": "rhjwl6qji9dehd2vyltv7q"
   },
   "outputs": [
    {
     "data": {
      "text/html": [
       "<div>\n",
       "<style scoped>\n",
       "    .dataframe tbody tr th:only-of-type {\n",
       "        vertical-align: middle;\n",
       "    }\n",
       "\n",
       "    .dataframe tbody tr th {\n",
       "        vertical-align: top;\n",
       "    }\n",
       "\n",
       "    .dataframe thead th {\n",
       "        text-align: right;\n",
       "    }\n",
       "</style>\n",
       "<table border=\"1\" class=\"dataframe\">\n",
       "  <thead>\n",
       "    <tr style=\"text-align: right;\">\n",
       "      <th></th>\n",
       "      <th>baths</th>\n",
       "      <th>fireplace</th>\n",
       "      <th>sqft</th>\n",
       "      <th>zipcode</th>\n",
       "      <th>stories</th>\n",
       "      <th>target</th>\n",
       "      <th>year_built</th>\n",
       "      <th>heating</th>\n",
       "      <th>cooling</th>\n",
       "      <th>parking</th>\n",
       "      <th>private_pool</th>\n",
       "      <th>school_rating</th>\n",
       "      <th>school_min_distance</th>\n",
       "      <th>beds_area</th>\n",
       "      <th>baths_area</th>\n",
       "      <th>lotsize_sqft</th>\n",
       "      <th>status_active</th>\n",
       "      <th>status_foreclosure</th>\n",
       "      <th>status_new</th>\n",
       "      <th>status_pre_foreclosure</th>\n",
       "      <th>status_under_contract</th>\n",
       "      <th>state_AZ</th>\n",
       "      <th>state_CA</th>\n",
       "      <th>state_CO</th>\n",
       "      <th>state_DC</th>\n",
       "      <th>state_FL</th>\n",
       "      <th>state_GA</th>\n",
       "      <th>state_IA</th>\n",
       "      <th>state_IL</th>\n",
       "      <th>state_IN</th>\n",
       "      <th>state_MA</th>\n",
       "      <th>state_MD</th>\n",
       "      <th>state_ME</th>\n",
       "      <th>state_MI</th>\n",
       "      <th>state_MO</th>\n",
       "      <th>state_NC</th>\n",
       "      <th>state_NJ</th>\n",
       "      <th>state_NV</th>\n",
       "      <th>state_NY</th>\n",
       "      <th>state_OH</th>\n",
       "      <th>state_OR</th>\n",
       "      <th>state_PA</th>\n",
       "      <th>state_TN</th>\n",
       "      <th>state_TX</th>\n",
       "      <th>state_UT</th>\n",
       "      <th>state_VA</th>\n",
       "      <th>state_VT</th>\n",
       "      <th>state_WA</th>\n",
       "      <th>state_WI</th>\n",
       "      <th>property_add_type_attached</th>\n",
       "      <th>property_add_type_carriage</th>\n",
       "      <th>property_add_type_co op</th>\n",
       "      <th>property_add_type_condo</th>\n",
       "      <th>property_add_type_cottage</th>\n",
       "      <th>property_add_type_custom</th>\n",
       "      <th>property_add_type_detached</th>\n",
       "      <th>property_add_type_log</th>\n",
       "      <th>property_add_type_mobile</th>\n",
       "      <th>property_add_type_patio</th>\n",
       "      <th>property_add_type_ranch</th>\n",
       "      <th>property_add_type_split</th>\n",
       "    </tr>\n",
       "  </thead>\n",
       "  <tbody>\n",
       "    <tr>\n",
       "      <th>0</th>\n",
       "      <td>3</td>\n",
       "      <td>1</td>\n",
       "      <td>2900.0</td>\n",
       "      <td>838</td>\n",
       "      <td>1</td>\n",
       "      <td>418000</td>\n",
       "      <td>202</td>\n",
       "      <td>1</td>\n",
       "      <td>0</td>\n",
       "      <td>0</td>\n",
       "      <td>0</td>\n",
       "      <td>5.2</td>\n",
       "      <td>2.70</td>\n",
       "      <td>725.0</td>\n",
       "      <td>828.571429</td>\n",
       "      <td>27878.0</td>\n",
       "      <td>1</td>\n",
       "      <td>0</td>\n",
       "      <td>0</td>\n",
       "      <td>0</td>\n",
       "      <td>0</td>\n",
       "      <td>0</td>\n",
       "      <td>0</td>\n",
       "      <td>0</td>\n",
       "      <td>0</td>\n",
       "      <td>0</td>\n",
       "      <td>0</td>\n",
       "      <td>0</td>\n",
       "      <td>0</td>\n",
       "      <td>0</td>\n",
       "      <td>0</td>\n",
       "      <td>0</td>\n",
       "      <td>0</td>\n",
       "      <td>0</td>\n",
       "      <td>0</td>\n",
       "      <td>1</td>\n",
       "      <td>0</td>\n",
       "      <td>0</td>\n",
       "      <td>0</td>\n",
       "      <td>0</td>\n",
       "      <td>0</td>\n",
       "      <td>0</td>\n",
       "      <td>0</td>\n",
       "      <td>0</td>\n",
       "      <td>0</td>\n",
       "      <td>0</td>\n",
       "      <td>0</td>\n",
       "      <td>0</td>\n",
       "      <td>0</td>\n",
       "      <td>0</td>\n",
       "      <td>0</td>\n",
       "      <td>0</td>\n",
       "      <td>0</td>\n",
       "      <td>0</td>\n",
       "      <td>0</td>\n",
       "      <td>1</td>\n",
       "      <td>0</td>\n",
       "      <td>0</td>\n",
       "      <td>0</td>\n",
       "      <td>0</td>\n",
       "      <td>0</td>\n",
       "    </tr>\n",
       "    <tr>\n",
       "      <th>1</th>\n",
       "      <td>2</td>\n",
       "      <td>0</td>\n",
       "      <td>1947.0</td>\n",
       "      <td>4033</td>\n",
       "      <td>1</td>\n",
       "      <td>310000</td>\n",
       "      <td>202</td>\n",
       "      <td>0</td>\n",
       "      <td>0</td>\n",
       "      <td>0</td>\n",
       "      <td>0</td>\n",
       "      <td>4.0</td>\n",
       "      <td>1.01</td>\n",
       "      <td>649.0</td>\n",
       "      <td>649.000000</td>\n",
       "      <td>5828.0</td>\n",
       "      <td>1</td>\n",
       "      <td>0</td>\n",
       "      <td>0</td>\n",
       "      <td>0</td>\n",
       "      <td>0</td>\n",
       "      <td>0</td>\n",
       "      <td>0</td>\n",
       "      <td>0</td>\n",
       "      <td>0</td>\n",
       "      <td>0</td>\n",
       "      <td>0</td>\n",
       "      <td>0</td>\n",
       "      <td>0</td>\n",
       "      <td>0</td>\n",
       "      <td>0</td>\n",
       "      <td>0</td>\n",
       "      <td>0</td>\n",
       "      <td>0</td>\n",
       "      <td>0</td>\n",
       "      <td>0</td>\n",
       "      <td>0</td>\n",
       "      <td>0</td>\n",
       "      <td>0</td>\n",
       "      <td>0</td>\n",
       "      <td>0</td>\n",
       "      <td>0</td>\n",
       "      <td>0</td>\n",
       "      <td>0</td>\n",
       "      <td>0</td>\n",
       "      <td>0</td>\n",
       "      <td>0</td>\n",
       "      <td>1</td>\n",
       "      <td>0</td>\n",
       "      <td>0</td>\n",
       "      <td>0</td>\n",
       "      <td>0</td>\n",
       "      <td>0</td>\n",
       "      <td>0</td>\n",
       "      <td>0</td>\n",
       "      <td>1</td>\n",
       "      <td>0</td>\n",
       "      <td>0</td>\n",
       "      <td>0</td>\n",
       "      <td>0</td>\n",
       "      <td>0</td>\n",
       "    </tr>\n",
       "    <tr>\n",
       "      <th>2</th>\n",
       "      <td>1</td>\n",
       "      <td>1</td>\n",
       "      <td>3000.0</td>\n",
       "      <td>3192</td>\n",
       "      <td>0</td>\n",
       "      <td>2895000</td>\n",
       "      <td>144</td>\n",
       "      <td>1</td>\n",
       "      <td>1</td>\n",
       "      <td>1</td>\n",
       "      <td>1</td>\n",
       "      <td>6.7</td>\n",
       "      <td>1.19</td>\n",
       "      <td>1000.0</td>\n",
       "      <td>1500.000000</td>\n",
       "      <td>8626.0</td>\n",
       "      <td>1</td>\n",
       "      <td>0</td>\n",
       "      <td>0</td>\n",
       "      <td>0</td>\n",
       "      <td>0</td>\n",
       "      <td>0</td>\n",
       "      <td>1</td>\n",
       "      <td>0</td>\n",
       "      <td>0</td>\n",
       "      <td>0</td>\n",
       "      <td>0</td>\n",
       "      <td>0</td>\n",
       "      <td>0</td>\n",
       "      <td>0</td>\n",
       "      <td>0</td>\n",
       "      <td>0</td>\n",
       "      <td>0</td>\n",
       "      <td>0</td>\n",
       "      <td>0</td>\n",
       "      <td>0</td>\n",
       "      <td>0</td>\n",
       "      <td>0</td>\n",
       "      <td>0</td>\n",
       "      <td>0</td>\n",
       "      <td>0</td>\n",
       "      <td>0</td>\n",
       "      <td>0</td>\n",
       "      <td>0</td>\n",
       "      <td>0</td>\n",
       "      <td>0</td>\n",
       "      <td>0</td>\n",
       "      <td>0</td>\n",
       "      <td>0</td>\n",
       "      <td>0</td>\n",
       "      <td>0</td>\n",
       "      <td>0</td>\n",
       "      <td>0</td>\n",
       "      <td>0</td>\n",
       "      <td>0</td>\n",
       "      <td>1</td>\n",
       "      <td>0</td>\n",
       "      <td>0</td>\n",
       "      <td>0</td>\n",
       "      <td>0</td>\n",
       "      <td>0</td>\n",
       "    </tr>\n",
       "    <tr>\n",
       "      <th>3</th>\n",
       "      <td>7</td>\n",
       "      <td>1</td>\n",
       "      <td>6457.0</td>\n",
       "      <td>2291</td>\n",
       "      <td>2</td>\n",
       "      <td>2395000</td>\n",
       "      <td>189</td>\n",
       "      <td>1</td>\n",
       "      <td>1</td>\n",
       "      <td>1</td>\n",
       "      <td>0</td>\n",
       "      <td>9.2</td>\n",
       "      <td>0.10</td>\n",
       "      <td>1291.4</td>\n",
       "      <td>807.125000</td>\n",
       "      <td>8220.0</td>\n",
       "      <td>1</td>\n",
       "      <td>0</td>\n",
       "      <td>0</td>\n",
       "      <td>0</td>\n",
       "      <td>0</td>\n",
       "      <td>0</td>\n",
       "      <td>0</td>\n",
       "      <td>0</td>\n",
       "      <td>0</td>\n",
       "      <td>0</td>\n",
       "      <td>0</td>\n",
       "      <td>0</td>\n",
       "      <td>0</td>\n",
       "      <td>0</td>\n",
       "      <td>0</td>\n",
       "      <td>0</td>\n",
       "      <td>0</td>\n",
       "      <td>0</td>\n",
       "      <td>0</td>\n",
       "      <td>0</td>\n",
       "      <td>0</td>\n",
       "      <td>0</td>\n",
       "      <td>0</td>\n",
       "      <td>0</td>\n",
       "      <td>0</td>\n",
       "      <td>0</td>\n",
       "      <td>0</td>\n",
       "      <td>1</td>\n",
       "      <td>0</td>\n",
       "      <td>0</td>\n",
       "      <td>0</td>\n",
       "      <td>0</td>\n",
       "      <td>0</td>\n",
       "      <td>0</td>\n",
       "      <td>0</td>\n",
       "      <td>0</td>\n",
       "      <td>0</td>\n",
       "      <td>0</td>\n",
       "      <td>0</td>\n",
       "      <td>1</td>\n",
       "      <td>0</td>\n",
       "      <td>0</td>\n",
       "      <td>0</td>\n",
       "      <td>0</td>\n",
       "      <td>0</td>\n",
       "    </tr>\n",
       "    <tr>\n",
       "      <th>4</th>\n",
       "      <td>1</td>\n",
       "      <td>0</td>\n",
       "      <td>897.0</td>\n",
       "      <td>524</td>\n",
       "      <td>1</td>\n",
       "      <td>209000</td>\n",
       "      <td>103</td>\n",
       "      <td>1</td>\n",
       "      <td>1</td>\n",
       "      <td>0</td>\n",
       "      <td>0</td>\n",
       "      <td>5.0</td>\n",
       "      <td>0.63</td>\n",
       "      <td>448.5</td>\n",
       "      <td>596.739356</td>\n",
       "      <td>680.0</td>\n",
       "      <td>1</td>\n",
       "      <td>0</td>\n",
       "      <td>0</td>\n",
       "      <td>0</td>\n",
       "      <td>0</td>\n",
       "      <td>0</td>\n",
       "      <td>0</td>\n",
       "      <td>0</td>\n",
       "      <td>0</td>\n",
       "      <td>0</td>\n",
       "      <td>0</td>\n",
       "      <td>0</td>\n",
       "      <td>0</td>\n",
       "      <td>0</td>\n",
       "      <td>0</td>\n",
       "      <td>0</td>\n",
       "      <td>0</td>\n",
       "      <td>0</td>\n",
       "      <td>0</td>\n",
       "      <td>0</td>\n",
       "      <td>0</td>\n",
       "      <td>0</td>\n",
       "      <td>0</td>\n",
       "      <td>0</td>\n",
       "      <td>0</td>\n",
       "      <td>1</td>\n",
       "      <td>0</td>\n",
       "      <td>0</td>\n",
       "      <td>0</td>\n",
       "      <td>0</td>\n",
       "      <td>0</td>\n",
       "      <td>0</td>\n",
       "      <td>0</td>\n",
       "      <td>1</td>\n",
       "      <td>0</td>\n",
       "      <td>0</td>\n",
       "      <td>0</td>\n",
       "      <td>0</td>\n",
       "      <td>0</td>\n",
       "      <td>0</td>\n",
       "      <td>0</td>\n",
       "      <td>0</td>\n",
       "      <td>0</td>\n",
       "      <td>0</td>\n",
       "      <td>0</td>\n",
       "    </tr>\n",
       "  </tbody>\n",
       "</table>\n",
       "</div>"
      ],
      "text/plain": [
       "   baths  fireplace  ...  property_add_type_ranch  property_add_type_split\n",
       "0      3          1  ...                        0                        0\n",
       "1      2          0  ...                        0                        0\n",
       "2      1          1  ...                        0                        0\n",
       "3      7          1  ...                        0                        0\n",
       "4      1          0  ...                        0                        0\n",
       "\n",
       "[5 rows x 61 columns]"
      ]
     },
     "metadata": {},
     "output_type": "display_data"
    },
    {
     "data": {
      "text/html": [
       "<div>\n",
       "<style scoped>\n",
       "    .dataframe tbody tr th:only-of-type {\n",
       "        vertical-align: middle;\n",
       "    }\n",
       "\n",
       "    .dataframe tbody tr th {\n",
       "        vertical-align: top;\n",
       "    }\n",
       "\n",
       "    .dataframe thead th {\n",
       "        text-align: right;\n",
       "    }\n",
       "</style>\n",
       "<table border=\"1\" class=\"dataframe\">\n",
       "  <thead>\n",
       "    <tr style=\"text-align: right;\">\n",
       "      <th></th>\n",
       "      <th>baths</th>\n",
       "      <th>fireplace</th>\n",
       "      <th>sqft</th>\n",
       "      <th>zipcode</th>\n",
       "      <th>stories</th>\n",
       "      <th>target</th>\n",
       "      <th>year_built</th>\n",
       "      <th>heating</th>\n",
       "      <th>cooling</th>\n",
       "      <th>parking</th>\n",
       "      <th>private_pool</th>\n",
       "      <th>school_rating</th>\n",
       "      <th>school_min_distance</th>\n",
       "      <th>beds_area</th>\n",
       "      <th>baths_area</th>\n",
       "      <th>lotsize_sqft</th>\n",
       "      <th>status_active</th>\n",
       "      <th>status_foreclosure</th>\n",
       "      <th>status_new</th>\n",
       "      <th>status_pre_foreclosure</th>\n",
       "      <th>status_under_contract</th>\n",
       "      <th>state_AZ</th>\n",
       "      <th>state_CA</th>\n",
       "      <th>state_CO</th>\n",
       "      <th>state_DC</th>\n",
       "      <th>state_FL</th>\n",
       "      <th>state_GA</th>\n",
       "      <th>state_IA</th>\n",
       "      <th>state_IL</th>\n",
       "      <th>state_IN</th>\n",
       "      <th>state_MA</th>\n",
       "      <th>state_MD</th>\n",
       "      <th>state_ME</th>\n",
       "      <th>state_MI</th>\n",
       "      <th>state_MO</th>\n",
       "      <th>state_NC</th>\n",
       "      <th>state_NJ</th>\n",
       "      <th>state_NV</th>\n",
       "      <th>state_NY</th>\n",
       "      <th>state_OH</th>\n",
       "      <th>state_OR</th>\n",
       "      <th>state_PA</th>\n",
       "      <th>state_TN</th>\n",
       "      <th>state_TX</th>\n",
       "      <th>state_UT</th>\n",
       "      <th>state_VA</th>\n",
       "      <th>state_VT</th>\n",
       "      <th>state_WA</th>\n",
       "      <th>state_WI</th>\n",
       "      <th>property_add_type_attached</th>\n",
       "      <th>property_add_type_carriage</th>\n",
       "      <th>property_add_type_co op</th>\n",
       "      <th>property_add_type_condo</th>\n",
       "      <th>property_add_type_cottage</th>\n",
       "      <th>property_add_type_custom</th>\n",
       "      <th>property_add_type_detached</th>\n",
       "      <th>property_add_type_log</th>\n",
       "      <th>property_add_type_mobile</th>\n",
       "      <th>property_add_type_patio</th>\n",
       "      <th>property_add_type_ranch</th>\n",
       "      <th>property_add_type_split</th>\n",
       "    </tr>\n",
       "  </thead>\n",
       "  <tbody>\n",
       "    <tr>\n",
       "      <th>0</th>\n",
       "      <td>3</td>\n",
       "      <td>1</td>\n",
       "      <td>7.972466</td>\n",
       "      <td>838</td>\n",
       "      <td>1</td>\n",
       "      <td>418000</td>\n",
       "      <td>202</td>\n",
       "      <td>1</td>\n",
       "      <td>0</td>\n",
       "      <td>0</td>\n",
       "      <td>0</td>\n",
       "      <td>1.648659</td>\n",
       "      <td>2.70</td>\n",
       "      <td>6.586172</td>\n",
       "      <td>6.719703</td>\n",
       "      <td>1.308333</td>\n",
       "      <td>1</td>\n",
       "      <td>0</td>\n",
       "      <td>0</td>\n",
       "      <td>0</td>\n",
       "      <td>0</td>\n",
       "      <td>0</td>\n",
       "      <td>0</td>\n",
       "      <td>0</td>\n",
       "      <td>0</td>\n",
       "      <td>0</td>\n",
       "      <td>0</td>\n",
       "      <td>0</td>\n",
       "      <td>0</td>\n",
       "      <td>0</td>\n",
       "      <td>0</td>\n",
       "      <td>0</td>\n",
       "      <td>0</td>\n",
       "      <td>0</td>\n",
       "      <td>0</td>\n",
       "      <td>1</td>\n",
       "      <td>0</td>\n",
       "      <td>0</td>\n",
       "      <td>0</td>\n",
       "      <td>0</td>\n",
       "      <td>0</td>\n",
       "      <td>0</td>\n",
       "      <td>0</td>\n",
       "      <td>0</td>\n",
       "      <td>0</td>\n",
       "      <td>0</td>\n",
       "      <td>0</td>\n",
       "      <td>0</td>\n",
       "      <td>0</td>\n",
       "      <td>0</td>\n",
       "      <td>0</td>\n",
       "      <td>0</td>\n",
       "      <td>0</td>\n",
       "      <td>0</td>\n",
       "      <td>0</td>\n",
       "      <td>1</td>\n",
       "      <td>0</td>\n",
       "      <td>0</td>\n",
       "      <td>0</td>\n",
       "      <td>0</td>\n",
       "      <td>0</td>\n",
       "    </tr>\n",
       "    <tr>\n",
       "      <th>1</th>\n",
       "      <td>2</td>\n",
       "      <td>0</td>\n",
       "      <td>7.574045</td>\n",
       "      <td>4033</td>\n",
       "      <td>1</td>\n",
       "      <td>310000</td>\n",
       "      <td>202</td>\n",
       "      <td>0</td>\n",
       "      <td>0</td>\n",
       "      <td>0</td>\n",
       "      <td>0</td>\n",
       "      <td>1.386294</td>\n",
       "      <td>1.01</td>\n",
       "      <td>6.475433</td>\n",
       "      <td>6.475433</td>\n",
       "      <td>0.698135</td>\n",
       "      <td>1</td>\n",
       "      <td>0</td>\n",
       "      <td>0</td>\n",
       "      <td>0</td>\n",
       "      <td>0</td>\n",
       "      <td>0</td>\n",
       "      <td>0</td>\n",
       "      <td>0</td>\n",
       "      <td>0</td>\n",
       "      <td>0</td>\n",
       "      <td>0</td>\n",
       "      <td>0</td>\n",
       "      <td>0</td>\n",
       "      <td>0</td>\n",
       "      <td>0</td>\n",
       "      <td>0</td>\n",
       "      <td>0</td>\n",
       "      <td>0</td>\n",
       "      <td>0</td>\n",
       "      <td>0</td>\n",
       "      <td>0</td>\n",
       "      <td>0</td>\n",
       "      <td>0</td>\n",
       "      <td>0</td>\n",
       "      <td>0</td>\n",
       "      <td>0</td>\n",
       "      <td>0</td>\n",
       "      <td>0</td>\n",
       "      <td>0</td>\n",
       "      <td>0</td>\n",
       "      <td>0</td>\n",
       "      <td>1</td>\n",
       "      <td>0</td>\n",
       "      <td>0</td>\n",
       "      <td>0</td>\n",
       "      <td>0</td>\n",
       "      <td>0</td>\n",
       "      <td>0</td>\n",
       "      <td>0</td>\n",
       "      <td>1</td>\n",
       "      <td>0</td>\n",
       "      <td>0</td>\n",
       "      <td>0</td>\n",
       "      <td>0</td>\n",
       "      <td>0</td>\n",
       "    </tr>\n",
       "    <tr>\n",
       "      <th>2</th>\n",
       "      <td>1</td>\n",
       "      <td>1</td>\n",
       "      <td>8.006368</td>\n",
       "      <td>3192</td>\n",
       "      <td>0</td>\n",
       "      <td>2895000</td>\n",
       "      <td>144</td>\n",
       "      <td>1</td>\n",
       "      <td>1</td>\n",
       "      <td>1</td>\n",
       "      <td>1</td>\n",
       "      <td>1.902108</td>\n",
       "      <td>1.19</td>\n",
       "      <td>6.907755</td>\n",
       "      <td>7.313220</td>\n",
       "      <td>0.783902</td>\n",
       "      <td>1</td>\n",
       "      <td>0</td>\n",
       "      <td>0</td>\n",
       "      <td>0</td>\n",
       "      <td>0</td>\n",
       "      <td>0</td>\n",
       "      <td>1</td>\n",
       "      <td>0</td>\n",
       "      <td>0</td>\n",
       "      <td>0</td>\n",
       "      <td>0</td>\n",
       "      <td>0</td>\n",
       "      <td>0</td>\n",
       "      <td>0</td>\n",
       "      <td>0</td>\n",
       "      <td>0</td>\n",
       "      <td>0</td>\n",
       "      <td>0</td>\n",
       "      <td>0</td>\n",
       "      <td>0</td>\n",
       "      <td>0</td>\n",
       "      <td>0</td>\n",
       "      <td>0</td>\n",
       "      <td>0</td>\n",
       "      <td>0</td>\n",
       "      <td>0</td>\n",
       "      <td>0</td>\n",
       "      <td>0</td>\n",
       "      <td>0</td>\n",
       "      <td>0</td>\n",
       "      <td>0</td>\n",
       "      <td>0</td>\n",
       "      <td>0</td>\n",
       "      <td>0</td>\n",
       "      <td>0</td>\n",
       "      <td>0</td>\n",
       "      <td>0</td>\n",
       "      <td>0</td>\n",
       "      <td>0</td>\n",
       "      <td>1</td>\n",
       "      <td>0</td>\n",
       "      <td>0</td>\n",
       "      <td>0</td>\n",
       "      <td>0</td>\n",
       "      <td>0</td>\n",
       "    </tr>\n",
       "    <tr>\n",
       "      <th>3</th>\n",
       "      <td>7</td>\n",
       "      <td>1</td>\n",
       "      <td>8.772920</td>\n",
       "      <td>2291</td>\n",
       "      <td>2</td>\n",
       "      <td>2395000</td>\n",
       "      <td>189</td>\n",
       "      <td>1</td>\n",
       "      <td>1</td>\n",
       "      <td>1</td>\n",
       "      <td>0</td>\n",
       "      <td>2.219203</td>\n",
       "      <td>0.10</td>\n",
       "      <td>7.163482</td>\n",
       "      <td>6.693479</td>\n",
       "      <td>0.095310</td>\n",
       "      <td>1</td>\n",
       "      <td>0</td>\n",
       "      <td>0</td>\n",
       "      <td>0</td>\n",
       "      <td>0</td>\n",
       "      <td>0</td>\n",
       "      <td>0</td>\n",
       "      <td>0</td>\n",
       "      <td>0</td>\n",
       "      <td>0</td>\n",
       "      <td>0</td>\n",
       "      <td>0</td>\n",
       "      <td>0</td>\n",
       "      <td>0</td>\n",
       "      <td>0</td>\n",
       "      <td>0</td>\n",
       "      <td>0</td>\n",
       "      <td>0</td>\n",
       "      <td>0</td>\n",
       "      <td>0</td>\n",
       "      <td>0</td>\n",
       "      <td>0</td>\n",
       "      <td>0</td>\n",
       "      <td>0</td>\n",
       "      <td>0</td>\n",
       "      <td>0</td>\n",
       "      <td>0</td>\n",
       "      <td>1</td>\n",
       "      <td>0</td>\n",
       "      <td>0</td>\n",
       "      <td>0</td>\n",
       "      <td>0</td>\n",
       "      <td>0</td>\n",
       "      <td>0</td>\n",
       "      <td>0</td>\n",
       "      <td>0</td>\n",
       "      <td>0</td>\n",
       "      <td>0</td>\n",
       "      <td>0</td>\n",
       "      <td>1</td>\n",
       "      <td>0</td>\n",
       "      <td>0</td>\n",
       "      <td>0</td>\n",
       "      <td>0</td>\n",
       "      <td>0</td>\n",
       "    </tr>\n",
       "    <tr>\n",
       "      <th>4</th>\n",
       "      <td>1</td>\n",
       "      <td>0</td>\n",
       "      <td>6.799056</td>\n",
       "      <td>524</td>\n",
       "      <td>1</td>\n",
       "      <td>209000</td>\n",
       "      <td>103</td>\n",
       "      <td>1</td>\n",
       "      <td>1</td>\n",
       "      <td>0</td>\n",
       "      <td>0</td>\n",
       "      <td>1.609438</td>\n",
       "      <td>0.63</td>\n",
       "      <td>6.105909</td>\n",
       "      <td>6.391480</td>\n",
       "      <td>0.488580</td>\n",
       "      <td>1</td>\n",
       "      <td>0</td>\n",
       "      <td>0</td>\n",
       "      <td>0</td>\n",
       "      <td>0</td>\n",
       "      <td>0</td>\n",
       "      <td>0</td>\n",
       "      <td>0</td>\n",
       "      <td>0</td>\n",
       "      <td>0</td>\n",
       "      <td>0</td>\n",
       "      <td>0</td>\n",
       "      <td>0</td>\n",
       "      <td>0</td>\n",
       "      <td>0</td>\n",
       "      <td>0</td>\n",
       "      <td>0</td>\n",
       "      <td>0</td>\n",
       "      <td>0</td>\n",
       "      <td>0</td>\n",
       "      <td>0</td>\n",
       "      <td>0</td>\n",
       "      <td>0</td>\n",
       "      <td>0</td>\n",
       "      <td>0</td>\n",
       "      <td>1</td>\n",
       "      <td>0</td>\n",
       "      <td>0</td>\n",
       "      <td>0</td>\n",
       "      <td>0</td>\n",
       "      <td>0</td>\n",
       "      <td>0</td>\n",
       "      <td>0</td>\n",
       "      <td>1</td>\n",
       "      <td>0</td>\n",
       "      <td>0</td>\n",
       "      <td>0</td>\n",
       "      <td>0</td>\n",
       "      <td>0</td>\n",
       "      <td>0</td>\n",
       "      <td>0</td>\n",
       "      <td>0</td>\n",
       "      <td>0</td>\n",
       "      <td>0</td>\n",
       "      <td>0</td>\n",
       "    </tr>\n",
       "  </tbody>\n",
       "</table>\n",
       "</div>"
      ],
      "text/plain": [
       "   baths  fireplace  ...  property_add_type_ranch  property_add_type_split\n",
       "0      3          1  ...                        0                        0\n",
       "1      2          0  ...                        0                        0\n",
       "2      1          1  ...                        0                        0\n",
       "3      7          1  ...                        0                        0\n",
       "4      1          0  ...                        0                        0\n",
       "\n",
       "[5 rows x 61 columns]"
      ]
     },
     "metadata": {},
     "output_type": "display_data"
    }
   ],
   "source": [
    "# Sample 5 - 61 features\n",
    "\n",
    "label_list = ['baths', 'stories', 'year_built', 'zipcode'] # порядковые признаки, в т.ч. и не совсем объяснимо зипкод\n",
    "onehot_cat_list = ['status', 'property_add_type', 'state'] # категориальные признаки\n",
    "\n",
    "# Кодируем признаки 1-го набора данных\n",
    "label_encoder = LabelEncoder()\n",
    "for column in label_list:\n",
    "    data_coded[column] = label_encoder.fit_transform(data_coded[[column]])\n",
    "data_coded = pd.get_dummies(data_coded)\n",
    "\n",
    "# Кодируем признаки 2-го набора данных\n",
    "label_encoder = LabelEncoder()\n",
    "for column in label_list:\n",
    "    data_log_coded[column] = label_encoder.fit_transform(data_log_coded[[column]])\n",
    "data_log_coded = pd.get_dummies(data_log_coded)\n",
    "\n",
    "display(data_coded.head())\n",
    "display(data_log_coded.head())"
   ]
  },
  {
   "cell_type": "markdown",
   "metadata": {
    "cellId": "a8feijqfqcgyhv3m3csus",
    "execution_id": "3e0c925e-7f30-416f-8e55-d1fedc754384"
   },
   "source": [
    "### Разбиение выборки, нормализация данных"
   ]
  },
  {
   "cell_type": "markdown",
   "metadata": {
    "cellId": "0fuqel9fy29aeav97egcdt",
    "execution_id": "193e4144-6f21-405e-a15a-24df8d1092f1"
   },
   "source": [
    "Оба набора данных разобьем на выборки train и test в пропорции 80/20.\n",
    "\n",
    "После кодирования в датасете появился 61 признак. Это, конечно, многовато. С помощью инструмента SelectKBest я протестировал работу моделей на разных наборах признаков (в том числе и самый популярный - 25 лучших). Но экспериментальным путем установил, что  метрики начинают падать, если брать в модель меньше 56 признаков, поэтому решил остановиться на данном числе.\n",
    "\n",
    "Согласно результатов статистических тестов, распределения наших признаков не являются нормальными, поэтому для нормализации будем использовать метод RobustScaler."
   ]
  },
  {
   "cell_type": "code",
   "execution_count": 138,
   "metadata": {
    "cellId": "jalbeh2pihe5jtumsyedxe"
   },
   "outputs": [],
   "source": [
    "# 1-й набор данных\n",
    "\n",
    "# Разбиваем выборку на train и test, задаем векторы правильных ответов\n",
    "X = data_coded.drop(['target'], axis=1)\n",
    "y = data_coded['target']\n",
    "X_train, X_test, y_train, y_test = train_test_split(X, y, test_size=0.20, random_state=42)\n",
    "\n",
    "# Выберем лучших 56 признаков для модели\n",
    "selector = feature_selection.SelectKBest(feature_selection.f_regression, k=56)\n",
    "selector.fit(X_train, y_train)\n",
    "best_features = selector.get_feature_names_out()\n",
    "X_train, X_test = X_train[best_features], X_test[best_features]\n",
    "\n",
    "# Выполним нормализацию данных\n",
    "scaler = RobustScaler()\n",
    "scaler.fit(X_train)\n",
    "X_train_scaled = scaler.transform(X_train)\n",
    "X_test_scaled = scaler.transform(X_test)"
   ]
  },
  {
   "cell_type": "code",
   "execution_count": 139,
   "metadata": {
    "cellId": "7byq86lu4jfqezpdc20ew"
   },
   "outputs": [],
   "source": [
    "# 2-й набор данных\n",
    "\n",
    "# Разбиваем логарифмированную выборку на train и test, задаем векторы правильных ответов\n",
    "X_log = data_log_coded.drop(['target'], axis=1)\n",
    "y_log = data_log_coded['target']\n",
    "X_train_log, X_test_log, y_train_log, y_test_log = train_test_split(X_log, y_log, test_size=0.20, random_state=42)\n",
    "\n",
    "# Выберем лучших 56 признаков для модели\n",
    "selector = feature_selection.SelectKBest(feature_selection.f_regression, k=56)\n",
    "selector.fit(X_train_log, y_train_log)\n",
    "best_features_log = selector.get_feature_names_out()\n",
    "X_train_log, X_test_log = X_train_log[best_features_log], X_test_log[best_features_log]\n",
    "\n",
    "#Создаем объект для нормализации, вычисляем параметры, производим преобразование для каждой из выборок\n",
    "scaler = RobustScaler()\n",
    "scaler.fit(X_train_log)\n",
    "X_train_log_scaled = scaler.transform(X_train_log)\n",
    "X_test_log_scaled = scaler.transform(X_test_log)"
   ]
  },
  {
   "cell_type": "markdown",
   "metadata": {
    "cellId": "kg4ocuxvc38893tbdlyp6w",
    "execution_id": "d40c22c5-3984-42b6-bf1b-c299f9d0ef7a"
   },
   "source": [
    "# Моделирование"
   ]
  },
  {
   "cell_type": "markdown",
   "metadata": {
    "cellId": "g1q52hil91c3mwm58x36q8",
    "execution_id": "bf874960-f72e-4dd1-bffb-40285bd4468a"
   },
   "source": [
    "На данном этапе определим модели, наиболее подходящие для решения поставленной задачи регрессии (предсказание стоимости недвижимости). Определимся с метриками, которыми будем оценивать эффективность моделей. Построим модели различного типа и выберем наиболее эффективную."
   ]
  },
  {
   "cell_type": "markdown",
   "metadata": {
    "cellId": "o4k7ougz82jgsoapj55bp",
    "execution_id": "6070a08d-dcd0-4bf0-88fd-e891f611e94c"
   },
   "source": [
    "## Метрики"
   ]
  },
  {
   "cell_type": "markdown",
   "metadata": {
    "cellId": "k6rc0xkspgeswu9zgihnt",
    "execution_id": "4b74c29a-9ff3-4094-9ffc-d975e284eab8"
   },
   "source": [
    "Для оценки качества решения задачи регрессии существует множество метрик. Мы будем использовать следующие:\n",
    "1. **MAE (Mean Absolute Error)** - средняя абсолютная ошибка. Показывает среднее арифметическое модуля отклонения предсказанного значения от реального, легко интерпритировать результат (чем меньше, тем лучше).\n",
    "2. **MAPE (Mean Absolute Percent Error)** - средняя абсолютная ошибка в процентах. Показывает, на сколько процентов в среднем наше предсказание отклоняется от реального значения.\n",
    "3. **R2** - коэффициент детерминации. Показывает, насколько наша модель лучше, чем если бы все предсказания были средним по правильным ответам; описывает, какую долю информации о зависимости (дисперсии) смогла уловить модель. \n"
   ]
  },
  {
   "cell_type": "code",
   "execution_count": 140,
   "metadata": {
    "cellId": "cfp8ojar5xoh96vto9b4n7"
   },
   "outputs": [],
   "source": [
    "# Добавим функцию для вывода метрик\n",
    "def print_metrics(y_train, y_train_predict, y_test, y_test_predict):\n",
    "    print('Train MAE: {:.3f}'.format(metrics.mean_absolute_error(y_train, y_train_predict)))\n",
    "    print('Train MAPE: {:.3f}'.format(metrics.mean_absolute_percentage_error(y_train, y_train_predict)*100))\n",
    "    print('Train R^2: {:.3f}'.format(metrics.r2_score(y_train, y_train_predict)))\n",
    "    print('Test MAE: {:.3f}'.format(metrics.mean_absolute_error(y_test, y_test_predict)))\n",
    "    print('Test MAPE: {:.3f}'.format(metrics.mean_absolute_percentage_error(y_test, y_test_predict)*100))\n",
    "    print('Test R^2: {:.3f}'.format(metrics.r2_score(y_test, y_test_predict)))"
   ]
  },
  {
   "cell_type": "markdown",
   "metadata": {
    "cellId": "p1mhva762okn6v9hcwg7n",
    "execution_id": "5776050d-fdbd-4ffd-9882-338cbbaa8e54"
   },
   "source": [
    "## Baseline"
   ]
  },
  {
   "cell_type": "markdown",
   "metadata": {
    "cellId": "281z4ek8y9x0l1dpyw3g4j",
    "execution_id": "62897f17-45c9-4e09-857b-f749a3aee0d0"
   },
   "source": [
    "В качестве базовой модели (baseline) возьмем простую идею, что цена прямо зависит от жилплощади продаваемого объекта. \n",
    "\n",
    "За предсказание возьмем произведение жилплощади на условный коэффициент k (отношение медианой цены объектов в датасете к медиане жилплощади)."
   ]
  },
  {
   "cell_type": "code",
   "execution_count": 141,
   "metadata": {
    "cellId": "gsp0zmvdw8sjkeyiu7c40f"
   },
   "outputs": [
    {
     "name": "stdout",
     "output_type": "stream",
     "text": [
      "Train MAE: 302986.049\n",
      "Train MAPE: 72.624\n",
      "Train R^2: 0.166\n",
      "Test MAE: 300703.874\n",
      "Test MAPE: 72.206\n",
      "Test R^2: 0.169\n"
     ]
    }
   ],
   "source": [
    "# Разделим некодированную выборку на train и test \n",
    "X_base = data.drop(['target'], axis=1)\n",
    "y_base = data['target']\n",
    "X_train_base, X_test_base, y_train_base, y_test_base = train_test_split(X_base, y_base, test_size=0.20, random_state=42) \n",
    "\n",
    "# Вычислим условный коэффициент k\n",
    "k = data['target'].median() / data['sqft'].median()\n",
    "\n",
    "# Формируем предсказание\n",
    "y_train_base_pred = X_train_base['sqft'] * k\n",
    "y_test_base_pred = X_test_base['sqft'] * k\n",
    "\n",
    "print_metrics(y_train_base, y_train_base_pred, y_test_base, y_test_base_pred)"
   ]
  },
  {
   "cell_type": "markdown",
   "metadata": {
    "cellId": "ic6rmmigvupabez1zl56",
    "execution_id": "7d82baf5-ec50-452e-9783-402f174a7826"
   },
   "source": [
    "Результат далек от идеала, но для такой элементарной модели очень даже ничего - погрешность прогноза 72%, но коэффициент детерминации ~ 0.16, что говорит о том, что закономерности в данных модель практически не уловила. "
   ]
  },
  {
   "cell_type": "markdown",
   "metadata": {
    "cellId": "9sujp4ira5nvg1etgc2hre",
    "execution_id": "5876487b-4564-4950-8110-632fbfe1dfbb"
   },
   "source": [
    "## Простые модели"
   ]
  },
  {
   "cell_type": "markdown",
   "metadata": {
    "cellId": "7m9mnb4uu78x9u7j1j0e1",
    "execution_id": "e859f341-193c-48f2-9a9b-966862c6a002"
   },
   "source": [
    "### Линейная регрессия"
   ]
  },
  {
   "cell_type": "code",
   "execution_count": 142,
   "metadata": {
    "cellId": "faxb3twx44aki081m9c3oe"
   },
   "outputs": [
    {
     "name": "stdout",
     "output_type": "stream",
     "text": [
      "Train MAE: 302649.576\n",
      "Train MAPE: 103.326\n",
      "Train R^2: 0.438\n",
      "Test MAE: 299997.372\n",
      "Test MAPE: 101.807\n",
      "Test R^2: 0.439\n"
     ]
    }
   ],
   "source": [
    "# Cоздаём объект класса линейной регрессии и обучаем модель \n",
    "lr_model = LinearRegression()\n",
    "lr_model.fit(X_train_scaled, y_train)\n",
    "\n",
    "# Формируем предсказание\n",
    "lr_train_pred = lr_model.predict(X_train_scaled)\n",
    "lr_test_pred = lr_model.predict(X_test_scaled)\n",
    "\n",
    "print_metrics(y_train, lr_train_pred, y_test, lr_test_pred)"
   ]
  },
  {
   "cell_type": "markdown",
   "metadata": {
    "cellId": "41t3zjrnovdvodc9i6wx4",
    "execution_id": "a943d67e-7d41-4291-bd37-8bce3d7a043e"
   },
   "source": [
    "Видим, что по метрике MAPE предсказание даже хуже, чем baseline. При этом модель все же уловила какие-то зависимости в данных, метрика R2 стала заметно выше.  "
   ]
  },
  {
   "cell_type": "code",
   "execution_count": 143,
   "metadata": {
    "cellId": "in9ipc4jcmsvp6rblgh09"
   },
   "outputs": [
    {
     "name": "stdout",
     "output_type": "stream",
     "text": [
      "Train MAE: 231427.590\n",
      "Train MAPE: 50.179\n",
      "Train R^2: 0.463\n",
      "Test MAE: 230314.077\n",
      "Test MAPE: 49.546\n",
      "Test R^2: 0.457\n"
     ]
    }
   ],
   "source": [
    "# ЛОГАРИФМИРУЕМ ЧИСЛОВЫЕ И ЦЕЛЕВОЙ ПРИЗНАКИ\n",
    "\n",
    "# Cоздаём объект класса линейной регрессии и обучаем модель\n",
    "lr_log_model = LinearRegression()\n",
    "lr_log_model.fit(X_train_log_scaled, np.log(y_train_log))\n",
    "\n",
    "# Формируем предсказание\n",
    "lr_log_train_pred = np.exp(lr_log_model.predict(X_train_log_scaled))\n",
    "lr_log_test_pred = np.exp(lr_log_model.predict(X_test_log_scaled))\n",
    "\n",
    "print_metrics(y_train_log, lr_log_train_pred, y_test_log, lr_log_test_pred)"
   ]
  },
  {
   "cell_type": "markdown",
   "metadata": {
    "cellId": "u3qcpr08u5ayv4rdd45h",
    "execution_id": "9a2296b7-991a-4fd0-86e4-8990705076d5"
   },
   "source": [
    "Модель линейной регрессии, построенная на логарифмированных признаках, показывает вдвое лучший результат. Метрика MAPE улучшилась до 49.5%, да и R2 еще немного подрос."
   ]
  },
  {
   "cell_type": "markdown",
   "metadata": {
    "cellId": "hmbh90kebkb0pf5skpzlo",
    "execution_id": "42a88910-388c-459b-ab17-f2748e806263"
   },
   "source": [
    "### Полиномиальная линейная регрессия"
   ]
  },
  {
   "cell_type": "markdown",
   "metadata": {
    "cellId": "kyj7zmzttwonu5li7css",
    "execution_id": "12423946-540b-4bb0-b4c6-70fd196b1003"
   },
   "source": [
    "Для модели полиноминальной регрессии придется заново переразбить выборку и отобрать в модель меньший набор факторов. Проблема в том, что при генерации полиномиальных признаков 56 уже отобранных факторов превратятся в 1652 новых и на обучение модели потребуются колоссальные вычислительные мощности. Сократим число исходных факторов до 35 (сгенерируется 665 новых признаков)."
   ]
  },
  {
   "cell_type": "code",
   "execution_count": 144,
   "metadata": {
    "cellId": "4mrl4ld1qc2asyl4sncw2"
   },
   "outputs": [],
   "source": [
    "# Разбиваем выборку на train и test, задаем векторы правильных ответов\n",
    "X_poly = data_coded.drop(['target'], axis=1)\n",
    "y_poly = data_coded['target']\n",
    "X_train_poly, X_test_poly, y_train_poly, y_test_poly = train_test_split(X_poly, y_poly, test_size=0.20, random_state=42)\n",
    "\n",
    "# С помощью инструмента SelectKBest отберем 35 лучших признаков\n",
    "selector = feature_selection.SelectKBest(feature_selection.f_regression, k=35)\n",
    "selector.fit(X_train_poly, y_train_poly)\n",
    "best_features = selector.get_feature_names_out()\n",
    "X_train_poly, X_test_poly = X_train_poly[best_features], X_test_poly[best_features]\n",
    "\n",
    "#Создаем объект для нормализации, вычисляем параметры, производим преобразование для каждой из выборок\n",
    "scaler = RobustScaler()\n",
    "scaler.fit(X_train_poly)\n",
    "X_train_scaled_poly = scaler.transform(X_train_poly)\n",
    "X_test_scaled_poly = scaler.transform(X_test_poly)"
   ]
  },
  {
   "cell_type": "code",
   "execution_count": 145,
   "metadata": {
    "cellId": "hgu9aw1anyw2tmqrbo41ek"
   },
   "outputs": [
    {
     "name": "stdout",
     "output_type": "stream",
     "text": [
      "Train MAE: 241132.568\n",
      "Train MAPE: 63.680\n",
      "Train R^2: 0.586\n",
      "Test MAE: 241447.414\n",
      "Test MAPE: 62.702\n",
      "Test R^2: 0.573\n"
     ]
    }
   ],
   "source": [
    "# Создаем объект для генерации полиномиальных признаков, вычисляем параметры (число признаков)\n",
    "poly = PolynomialFeatures(degree=2, include_bias=False)\n",
    "poly.fit(X_train_scaled_poly)\n",
    "\n",
    "#Производим преобразование для каждой из выборок\n",
    "X_train_poly = poly.transform(X_train_scaled_poly)\n",
    "X_test_poly = poly.transform(X_test_scaled_poly)\n",
    "\n",
    "# Cоздаём объект класса линейной регрессии и обучаем модель\n",
    "lr_poly_model = LinearRegression()\n",
    "lr_poly_model.fit(X_train_poly, y_train_poly)\n",
    "\n",
    "# Формируем предсказание\n",
    "lr_poly_train_pred = lr_poly_model.predict(X_train_poly)\n",
    "lr_poly_test_pred = lr_poly_model.predict(X_test_poly)\n",
    "\n",
    "print_metrics(y_train_poly, lr_poly_train_pred, y_test_poly, lr_poly_test_pred)"
   ]
  },
  {
   "cell_type": "markdown",
   "metadata": {
    "cellId": "ownjgu31sksm5d0xp2rai",
    "execution_id": "b0ec7bef-73ed-4dba-bc1e-c074699f3958"
   },
   "source": [
    "Построим такую же модель для данных с логарифмированными признаками"
   ]
  },
  {
   "cell_type": "code",
   "execution_count": 146,
   "metadata": {
    "cellId": "wdt7fdy26sruwlv3f1qz9"
   },
   "outputs": [],
   "source": [
    "# Разбиваем выборку на train и test, задаем векторы правильных ответов\n",
    "X_log_poly = data_log_coded.drop(['target'], axis=1)\n",
    "y_log_poly = data_log_coded['target']\n",
    "X_train_log_poly, X_test_log_poly, y_train_log_poly, y_test_log_poly = train_test_split(X_log_poly, y_log_poly, test_size=0.20, random_state=42)\n",
    "\n",
    "# С помощью инструмента SelectKBest отберем 35 лучших признаков\n",
    "selector = feature_selection.SelectKBest(feature_selection.f_regression, k=35)\n",
    "selector.fit(X_train_log_poly, y_train_log_poly)\n",
    "best_features_log = selector.get_feature_names_out()\n",
    "X_train_log_poly, X_test_log_poly = X_train_log_poly[best_features], X_test_log_poly[best_features]\n",
    "\n",
    "#Создаем объект для нормализации, вычисляем параметры, производим преобразование для каждой из выборок\n",
    "scaler = RobustScaler()\n",
    "scaler.fit(X_train_log_poly)\n",
    "X_train_log_poly_scaled = scaler.transform(X_train_log_poly)\n",
    "X_test_log_poly_scaled = scaler.transform(X_test_log_poly)"
   ]
  },
  {
   "cell_type": "code",
   "execution_count": 147,
   "metadata": {
    "cellId": "7zbwud6z5vqz056wrwpnal"
   },
   "outputs": [
    {
     "name": "stdout",
     "output_type": "stream",
     "text": [
      "Train MAE: 212131.276\n",
      "Train MAPE: 42.291\n",
      "Train R^2: 0.536\n",
      "Test MAE: 212403.054\n",
      "Test MAPE: 41.806\n",
      "Test R^2: 0.515\n"
     ]
    }
   ],
   "source": [
    "# ЛОГАРИФМИРУЕМ ЧИСЛОВЫЕ И ЦЕЛЕВОЙ ПРИЗНАКИ\n",
    "\n",
    "# Создаем объект для генерации полиномиальных признаков, вычисляем параметры (число признаков)\n",
    "poly_log = PolynomialFeatures(degree=2, include_bias=False)\n",
    "poly_log.fit(X_train_log_poly_scaled)\n",
    "\n",
    "#Производим преобразование для каждой из выборок\n",
    "X_train_log_poly = poly.transform(X_train_log_poly_scaled)\n",
    "X_test_log_poly = poly.transform(X_test_log_poly_scaled)\n",
    "\n",
    "# Cоздаём объект класса линейной регрессии и обучаем модель\n",
    "lr_poly_log_model = LinearRegression()\n",
    "lr_poly_log_model.fit(X_train_log_poly, np.log(y_train_log_poly))\n",
    "\n",
    "# Формируем предсказание\n",
    "lr_poly_log_train_pred = np.exp(lr_poly_log_model.predict(X_train_log_poly))\n",
    "lr_poly_log_test_pred = np.exp(lr_poly_log_model.predict(X_test_log_poly))\n",
    "\n",
    "print_metrics(y_train_log_poly, lr_poly_log_train_pred, y_test_log_poly, lr_poly_log_test_pred)"
   ]
  },
  {
   "cell_type": "markdown",
   "metadata": {
    "cellId": "gw91boak1hstyddv3fngg8",
    "execution_id": "9db7780b-b501-4e42-b4f8-6d0ed191bb9f"
   },
   "source": [
    "Видим, что полиномиальная регрессия отрабатывает лучше обычной (хотя она более ресурсозатратна). Лучший результат снова показывает модель, построенная на логарифмированных признаках - MAPE на тестовой выборке 41.8%, R2 - 0.515 (значения больше 0.5 уже считается удовлетворительными), переобучения практически нет."
   ]
  },
  {
   "cell_type": "markdown",
   "metadata": {
    "cellId": "hu9kdwe55hls9gtwiszfg",
    "execution_id": "24329f0a-3a41-44b3-b286-1e1c40114056"
   },
   "source": [
    "### Дерево решений"
   ]
  },
  {
   "cell_type": "markdown",
   "metadata": {
    "cellId": "e56x81gkyzw6ik7lemyw",
    "execution_id": "084127b0-ce3e-4956-81fe-26cc805c4084"
   },
   "source": [
    "Построим решающие деревья без подбора параметров"
   ]
  },
  {
   "cell_type": "code",
   "execution_count": 148,
   "metadata": {
    "cellId": "67wtd15it7nfyx11w7dki"
   },
   "outputs": [
    {
     "name": "stdout",
     "output_type": "stream",
     "text": [
      "Train MAE: 1033.365\n",
      "Train MAPE: 0.216\n",
      "Train R^2: 0.999\n",
      "Test MAE: 167907.783\n",
      "Test MAPE: 35.150\n",
      "Test R^2: 0.601\n"
     ]
    }
   ],
   "source": [
    "# Cоздаём объект класса решающего дерева и обучаем модель\n",
    "dtr_model = DecisionTreeRegressor(random_state=42)\n",
    "dtr_model.fit(X_train_scaled, y_train)\n",
    "\n",
    "# Формируем предсказание\n",
    "dtr_train_pred = dtr_model.predict(X_train_scaled)\n",
    "dtr_test_pred = dtr_model.predict(X_test_scaled)\n",
    "\n",
    "print_metrics(y_train, dtr_train_pred, y_test, dtr_test_pred)"
   ]
  },
  {
   "cell_type": "code",
   "execution_count": 149,
   "metadata": {
    "cellId": "65f47t4fkbxp5uhrr35i9"
   },
   "outputs": [
    {
     "name": "stdout",
     "output_type": "stream",
     "text": [
      "Train MAE: 1144.628\n",
      "Train MAPE: 0.219\n",
      "Train R^2: 0.999\n",
      "Test MAE: 170747.341\n",
      "Test MAPE: 34.733\n",
      "Test R^2: 0.578\n"
     ]
    }
   ],
   "source": [
    "# ЛОГАРИФМИРУЕМ ЧИСЛОВЫЕ И ЦЕЛЕВОЙ ПРИЗНАКИ\n",
    "\n",
    "# Cоздаём объект класса решающего дерева и обучаем модель\n",
    "dtr_log_model = DecisionTreeRegressor(random_state=42)  \n",
    "dtr_log_model.fit(X_train_log_scaled, np.log(y_train_log))\n",
    "\n",
    "# Формируем предсказание\n",
    "dtr_log_train_pred = np.exp(dtr_log_model.predict(X_train_log_scaled))\n",
    "dtr_log_test_pred = np.exp(dtr_log_model.predict(X_test_log_scaled))\n",
    "\n",
    "print_metrics(y_train_log, dtr_log_train_pred, y_test_log, dtr_log_test_pred)"
   ]
  },
  {
   "cell_type": "markdown",
   "metadata": {
    "cellId": "lh6unascsd8uknbzs7aya",
    "execution_id": "7ae6ec3e-0810-4ba0-bc16-ee6c1dc46b55"
   },
   "source": [
    "Налицо явное переобучение. Попробуем подобрать оптимальные параметры моделей с помощью GridSearchCV."
   ]
  },
  {
   "cell_type": "code",
   "execution_count": 150,
   "metadata": {
    "cellId": "w7352mjk5zbj7bbsseo12s"
   },
   "outputs": [
    {
     "name": "stdout",
     "output_type": "stream",
     "text": [
      "Fitting 3 folds for each of 20 candidates, totalling 60 fits\n"
     ]
    },
    {
     "data": {
      "text/plain": [
       "{'max_depth': 13, 'min_samples_leaf': 8}"
      ]
     },
     "execution_count": 150,
     "metadata": {},
     "output_type": "execute_result"
    }
   ],
   "source": [
    "param_grid = {\n",
    "    'max_depth': range(5, 15, 2),\n",
    "    'min_samples_leaf': range(2, 10, 2)}\n",
    "\n",
    "grid_search = GridSearchCV(\n",
    "    estimator=dtr_model,\n",
    "    param_grid=param_grid,\n",
    "    cv=3,\n",
    "    scoring='neg_mean_absolute_error',\n",
    "    verbose=2,\n",
    "    n_jobs=-1)\n",
    "\n",
    "grid_search.fit(X_train, y_train)\n",
    "\n",
    "dtr_best_params = grid_search.best_params_\n",
    "dtr_best_params"
   ]
  },
  {
   "cell_type": "code",
   "execution_count": 151,
   "metadata": {
    "cellId": "k3hcl4tor3hleglppidkf"
   },
   "outputs": [
    {
     "name": "stdout",
     "output_type": "stream",
     "text": [
      "Fitting 3 folds for each of 20 candidates, totalling 60 fits\n"
     ]
    },
    {
     "data": {
      "text/plain": [
       "{'max_depth': 13, 'min_samples_leaf': 6}"
      ]
     },
     "execution_count": 151,
     "metadata": {},
     "output_type": "execute_result"
    }
   ],
   "source": [
    "param_grid = {\n",
    "    'max_depth': range(5, 15, 2),\n",
    "    'min_samples_leaf': range(2, 10, 2)}\n",
    "\n",
    "grid_search = GridSearchCV(\n",
    "    estimator=dtr_log_model,\n",
    "    param_grid=param_grid,\n",
    "    cv=3,\n",
    "    scoring='neg_mean_absolute_error',\n",
    "    verbose=2,\n",
    "    n_jobs=-1)\n",
    "\n",
    "grid_search.fit(X_train_log, y_train_log)\n",
    "\n",
    "dtr_log_best_params = grid_search.best_params_\n",
    "dtr_log_best_params"
   ]
  },
  {
   "cell_type": "markdown",
   "metadata": {
    "cellId": "p3l0x4mvinlu9xczk1p5",
    "execution_id": "05971740-ba61-4f72-bb2b-5775226e4202"
   },
   "source": [
    "Заново построим модели, используя подобранные параметры"
   ]
  },
  {
   "cell_type": "code",
   "execution_count": 152,
   "metadata": {
    "cellId": "k1l58yp2scmhnizir9ucm"
   },
   "outputs": [
    {
     "name": "stdout",
     "output_type": "stream",
     "text": [
      "Train MAE: 173210.584\n",
      "Train MAPE: 46.606\n",
      "Train R^2: 0.782\n",
      "Test MAE: 193274.748\n",
      "Test MAPE: 48.713\n",
      "Test R^2: 0.666\n"
     ]
    }
   ],
   "source": [
    "# Cоздаём объект класса решающего дерева и обучаем модель\n",
    "dtr_model = DecisionTreeRegressor(max_depth=13, min_samples_leaf=8, random_state=42)\n",
    "dtr_model.fit(X_train_scaled, y_train)\n",
    "\n",
    "# Формируем предсказание\n",
    "dtr_train_pred = dtr_model.predict(X_train_scaled)\n",
    "dtr_test_pred = dtr_model.predict(X_test_scaled)\n",
    "\n",
    "print_metrics(y_train, dtr_train_pred, y_test, dtr_test_pred)"
   ]
  },
  {
   "cell_type": "code",
   "execution_count": 153,
   "metadata": {
    "cellId": "du4tsam6bph42mm4w4n2l"
   },
   "outputs": [
    {
     "name": "stdout",
     "output_type": "stream",
     "text": [
      "Train MAE: 160430.406\n",
      "Train MAPE: 32.707\n",
      "Train R^2: 0.760\n",
      "Test MAE: 184190.184\n",
      "Test MAPE: 36.045\n",
      "Test R^2: 0.638\n"
     ]
    }
   ],
   "source": [
    "# ЛОГАРИФМИРУЕМ ЧИСЛОВЫЕ И ЦЕЛЕВОЙ ПРИЗНАКИ\n",
    "\n",
    "# Cоздаём объект класса решающего дерева и обучаем модель\n",
    "dtr_log_model = DecisionTreeRegressor(max_depth=13, min_samples_leaf=6, random_state=42)  \n",
    "dtr_log_model.fit(X_train_log_scaled, np.log(y_train_log))\n",
    "\n",
    "# Формируем предсказание\n",
    "dtr_log_train_pred = np.exp(dtr_log_model.predict(X_train_log_scaled))\n",
    "dtr_log_test_pred = np.exp(dtr_log_model.predict(X_test_log_scaled))\n",
    "\n",
    "print_metrics(y_train_log, dtr_log_train_pred, y_test_log, dtr_log_test_pred)"
   ]
  },
  {
   "cell_type": "markdown",
   "metadata": {
    "cellId": "u6lxsb8p57r8qkoxnd4f7",
    "execution_id": "11894a73-e216-4d2c-b626-cfa79ec944be"
   },
   "source": [
    "Метрики подросли, переобучение минимальное. На данный момент лучший результат показывает модель решающего дерева, построенного на логарифмированных числовых и целевом признаках. Ошибка на тестовой выборке 36% от верного ответа, при этом модель неплохо улавливает зависимости в данных (R2 на тестовой выборке составляет 0.638).\n",
    "\n",
    "Модель проще и эффективнее полиномиальной линейной регрессии, но результат все еще слабоват. Попробуеем более сложные модели."
   ]
  },
  {
   "cell_type": "markdown",
   "metadata": {
    "cellId": "m14jxkbqpd0hn5f9ipnjhi",
    "execution_id": "3ce6fa0b-c995-461c-9395-62651abc474c"
   },
   "source": [
    "## Ансамблевые методы"
   ]
  },
  {
   "cell_type": "markdown",
   "metadata": {
    "cellId": "e2w64vyr3s66d0x6xfqzln",
    "execution_id": "7d9020ca-4658-43a1-8e10-7af03164d7f1"
   },
   "source": [
    "Основная идея ансамблевых методов заключается в улучшении качества слабых (базовых) моделей путем обучения моделей для решения одной и той же поставленной задачи с последующим объединением и получением некоторого более сильного и стабильного консенсус-решения."
   ]
  },
  {
   "cell_type": "markdown",
   "metadata": {
    "cellId": "tc5gsts5hdjfghmm4xywb",
    "execution_id": "23288dc4-f6f5-40ac-9a8b-71db76608c94"
   },
   "source": [
    "### Адаптивный бустинг"
   ]
  },
  {
   "cell_type": "markdown",
   "metadata": {
    "cellId": "p8mrwh0dvl87u92ujqzruf",
    "execution_id": "81c3d13d-223c-4c70-aa5e-ba7a10c5f18a"
   },
   "source": [
    "Построим ансамбли адаптивного бустинга над деревьями решений с параметрами по умолчанию"
   ]
  },
  {
   "cell_type": "code",
   "execution_count": 154,
   "metadata": {
    "cellId": "xyrdena6vom5dlu6o2o7c"
   },
   "outputs": [
    {
     "name": "stderr",
     "output_type": "stream",
     "text": [
      "/usr/local/lib/python3.10/dist-packages/sklearn/ensemble/_base.py:166: FutureWarning: `base_estimator` was renamed to `estimator` in version 1.2 and will be removed in 1.4.\n",
      "  warnings.warn(\n"
     ]
    },
    {
     "name": "stdout",
     "output_type": "stream",
     "text": [
      "Train MAE: 14943.849\n",
      "Train MAPE: 6.690\n",
      "Train R^2: 0.995\n",
      "Test MAE: 123645.847\n",
      "Test MAPE: 27.086\n",
      "Test R^2: 0.801\n"
     ]
    }
   ],
   "source": [
    "# Создаем объект класса дерева решений\n",
    "dtr_model = DecisionTreeRegressor(random_state=42)\n",
    "\n",
    "# Создаем объект класса AdaBoost и обучаем модель\n",
    "ab_model = AdaBoostRegressor(estimator=dtr_model, random_state=42)\n",
    "ab_model.fit(X_train_scaled, y_train)\n",
    "\n",
    "# Формируем предсказание\n",
    "ab_train_pred  = ab_model.predict(X_train_scaled)\n",
    "ab_test_pred  = ab_model.predict(X_test_scaled)\n",
    "\n",
    "print_metrics(y_train, ab_train_pred, y_test, ab_test_pred)"
   ]
  },
  {
   "cell_type": "code",
   "execution_count": 155,
   "metadata": {
    "cellId": "hcz0x4w408dbeewdi4wvn7"
   },
   "outputs": [
    {
     "name": "stderr",
     "output_type": "stream",
     "text": [
      "/usr/local/lib/python3.10/dist-packages/sklearn/ensemble/_base.py:166: FutureWarning: `base_estimator` was renamed to `estimator` in version 1.2 and will be removed in 1.4.\n",
      "  warnings.warn(\n"
     ]
    },
    {
     "name": "stdout",
     "output_type": "stream",
     "text": [
      "Train MAE: 22634.788\n",
      "Train MAPE: 3.482\n",
      "Train R^2: 0.975\n",
      "Test MAE: 126903.284\n",
      "Test MAPE: 23.101\n",
      "Test R^2: 0.762\n"
     ]
    }
   ],
   "source": [
    "# ЛОГАРИФМИРУЕМ ЧИСЛОВЫЕ И ЦЕЛЕВОЙ ПРИЗНАКИ\n",
    "\n",
    "# Создаем объект класса дерева решений\n",
    "dtr_log_model = DecisionTreeRegressor(random_state=42)\n",
    "\n",
    "# Создаем объект класса AdaBoost и обучаем модель\n",
    "ab_log_model = AdaBoostRegressor(estimator=dtr_log_model, random_state=42)\n",
    "ab_log_model.fit(X_train_log_scaled, np.log(y_train_log))\n",
    "\n",
    "# Формируем предсказание\n",
    "ab_log_train_pred  = np.exp(ab_log_model.predict(X_train_log_scaled))\n",
    "ab_log_test_pred  = np.exp(ab_log_model.predict(X_test_log_scaled))\n",
    "\n",
    "print_metrics(y_train_log, ab_log_train_pred, y_test_log, ab_log_test_pred)"
   ]
  },
  {
   "cell_type": "markdown",
   "metadata": {
    "cellId": "1lb7pzq1guzjh7e0cl3td",
    "execution_id": "9b74cb72-b1cc-4378-a626-ee9ec090be0e"
   },
   "source": [
    "Результат работы адаптивного бустинга лучше, чем у отдельного решающего дерева, но с параметрами по умолчанию вернулось сильное переобучение.\n",
    "\n",
    "Также заметно, что на логарифмированных признаках метрики немного выше. Попробуем улучшить результат, подобрав оптимальные гиперпараметры для второго набора данных. Для оптимизации гиперпараметров воспользуемся библиотекой optuna."
   ]
  },
  {
   "cell_type": "code",
   "execution_count": 156,
   "metadata": {
    "cellId": "qqnjga0n7qmic017oca4zc"
   },
   "outputs": [
    {
     "name": "stderr",
     "output_type": "stream",
     "text": [
      "[I 2023-10-31 14:31:16,465] A new study created in memory with name: AdaBoostRegressor\n",
      "[I 2023-10-31 14:35:24,941] Trial 0 finished with value: 0.2803820957567114 and parameters: {'max_depth': 29, 'min_samples_leaf': 7, 'n_estimators': 100, 'learning_rate': 0.45999999999999996}. Best is trial 0 with value: 0.2803820957567114.\n",
      "[I 2023-10-31 14:42:27,525] Trial 1 finished with value: 0.3313099419803086 and parameters: {'max_depth': 21, 'min_samples_leaf': 10, 'n_estimators': 300, 'learning_rate': 0.61}. Best is trial 0 with value: 0.2803820957567114.\n",
      "[I 2023-10-31 14:50:41,133] Trial 2 finished with value: 0.2999659220642108 and parameters: {'max_depth': 13, 'min_samples_leaf': 3, 'n_estimators': 225, 'learning_rate': 0.22}. Best is trial 0 with value: 0.2803820957567114.\n",
      "[I 2023-10-31 14:58:49,300] Trial 3 finished with value: 0.272935918877486 and parameters: {'max_depth': 35, 'min_samples_leaf': 2, 'n_estimators': 225, 'learning_rate': 0.28}. Best is trial 3 with value: 0.272935918877486.\n",
      "[I 2023-10-31 15:04:16,932] Trial 4 finished with value: 0.3130676223055981 and parameters: {'max_depth': 25, 'min_samples_leaf': 6, 'n_estimators': 225, 'learning_rate': 0.7}. Best is trial 3 with value: 0.272935918877486.\n",
      "[I 2023-10-31 15:08:23,979] Trial 5 finished with value: 0.3081422393487492 and parameters: {'max_depth': 13, 'min_samples_leaf': 5, 'n_estimators': 125, 'learning_rate': 0.52}. Best is trial 3 with value: 0.272935918877486.\n",
      "[I 2023-10-31 15:20:26,307] Trial 6 finished with value: 0.2690446927163546 and parameters: {'max_depth': 29, 'min_samples_leaf': 5, 'n_estimators': 150, 'learning_rate': 0.01}. Best is trial 6 with value: 0.2690446927163546.\n",
      "[I 2023-10-31 15:26:35,654] Trial 7 finished with value: 0.2720485026955503 and parameters: {'max_depth': 29, 'min_samples_leaf': 7, 'n_estimators': 100, 'learning_rate': 0.19}. Best is trial 6 with value: 0.2690446927163546.\n",
      "[I 2023-10-31 15:29:44,054] Trial 8 finished with value: 0.4350343933799672 and parameters: {'max_depth': 5, 'min_samples_leaf': 5, 'n_estimators': 125, 'learning_rate': 0.61}. Best is trial 6 with value: 0.2690446927163546.\n",
      "[I 2023-10-31 15:33:08,314] Trial 9 finished with value: 0.26679399744496707 and parameters: {'max_depth': 39, 'min_samples_leaf': 3, 'n_estimators': 50, 'learning_rate': 0.31}. Best is trial 9 with value: 0.26679399744496707.\n"
     ]
    },
    {
     "name": "stdout",
     "output_type": "stream",
     "text": [
      "Наилучшие значения гиперпараметров {'max_depth': 39, 'min_samples_leaf': 3, 'n_estimators': 50, 'learning_rate': 0.31}\n",
      "MAPE на тестовом наборе: 0.27\n"
     ]
    }
   ],
   "source": [
    "def optuna_rf(trial):\n",
    "  # задаем пространства поиска гиперпараметров\n",
    "  max_depth = trial.suggest_int('max_depth', 5, 39, 2) \n",
    "  min_samples_leaf = trial.suggest_int('min_samples_leaf', 1, 10, 1) \n",
    "  n_estimators = trial.suggest_int('n_estimators', 50, 300, 25)\n",
    "  learning_rate = trial.suggest_float('learning_rate', 0.01, 0.7, step=0.03)\n",
    "  # создаем и обучаем модель\n",
    "  model = AdaBoostRegressor(estimator=DecisionTreeRegressor(max_depth=max_depth, min_samples_leaf=min_samples_leaf, random_state=42), \n",
    "                            n_estimators=n_estimators, \n",
    "                            learning_rate=learning_rate, \n",
    "                            random_state=42)\n",
    "  model.fit(X_train_log_scaled, np.log(y_train_log))\n",
    "  score = cross_val_score(model, X_test_log_scaled, np.log(y_test_log), cv=3, scoring='neg_mean_absolute_error', n_jobs=-1).mean()\n",
    "  return abs(score)\n",
    "\n",
    "# cоздаем объект исследования и ищем лучшую комбинацию гиперпараметров\n",
    "study_ab = optuna.create_study(study_name=\"AdaBoostRegressor\", direction=\"minimize\")\n",
    "study_ab.optimize(optuna_rf, n_trials=10)\n",
    "\n",
    "print(\"Наилучшие значения гиперпараметров {}\".format(study_ab.best_params))\n",
    "print(\"MAPE на тестовом наборе: {:.2f}\".format(study_ab.best_value))"
   ]
  },
  {
   "cell_type": "code",
   "execution_count": 157,
   "metadata": {
    "cellId": "cadi85w52lduizwwd0zh2h"
   },
   "outputs": [
    {
     "name": "stderr",
     "output_type": "stream",
     "text": [
      "[I 2023-10-31 15:37:34,334] Trial 10 finished with value: 0.2664296734972856 and parameters: {'max_depth': 39, 'min_samples_leaf': 1, 'n_estimators': 50, 'learning_rate': 0.04}. Best is trial 10 with value: 0.2664296734972856.\n",
      "[I 2023-10-31 15:41:59,141] Trial 11 finished with value: 0.266723325654365 and parameters: {'max_depth': 39, 'min_samples_leaf': 1, 'n_estimators': 50, 'learning_rate': 0.01}. Best is trial 10 with value: 0.2664296734972856.\n",
      "[I 2023-10-31 15:46:22,364] Trial 12 finished with value: 0.2664296734972856 and parameters: {'max_depth': 39, 'min_samples_leaf': 1, 'n_estimators': 50, 'learning_rate': 0.04}. Best is trial 10 with value: 0.2664296734972856.\n",
      "[I 2023-10-31 15:50:46,115] Trial 13 finished with value: 0.26298855471807775 and parameters: {'max_depth': 35, 'min_samples_leaf': 1, 'n_estimators': 50, 'learning_rate': 0.13}. Best is trial 13 with value: 0.26298855471807775.\n",
      "[I 2023-10-31 15:56:45,431] Trial 14 finished with value: 0.26222094156153797 and parameters: {'max_depth': 33, 'min_samples_leaf': 3, 'n_estimators': 75, 'learning_rate': 0.13}. Best is trial 14 with value: 0.26222094156153797.\n",
      "[I 2023-10-31 16:04:08,341] Trial 15 finished with value: 0.26206500496736523 and parameters: {'max_depth': 33, 'min_samples_leaf': 3, 'n_estimators': 100, 'learning_rate': 0.13}. Best is trial 15 with value: 0.26206500496736523.\n",
      "[I 2023-10-31 16:09:46,120] Trial 16 finished with value: 0.28098498343373735 and parameters: {'max_depth': 21, 'min_samples_leaf': 3, 'n_estimators': 175, 'learning_rate': 0.4}. Best is trial 15 with value: 0.26206500496736523.\n",
      "[I 2023-10-31 16:17:29,648] Trial 17 finished with value: 0.26392611453289444 and parameters: {'max_depth': 33, 'min_samples_leaf': 4, 'n_estimators': 100, 'learning_rate': 0.13}. Best is trial 15 with value: 0.26206500496736523.\n",
      "[I 2023-10-31 16:27:29,864] Trial 18 finished with value: 0.27703728809788813 and parameters: {'max_depth': 25, 'min_samples_leaf': 10, 'n_estimators': 175, 'learning_rate': 0.13}. Best is trial 15 with value: 0.26206500496736523.\n",
      "[I 2023-10-31 16:32:25,174] Trial 19 finished with value: 0.26609069971775884 and parameters: {'max_depth': 33, 'min_samples_leaf': 4, 'n_estimators': 75, 'learning_rate': 0.22}. Best is trial 15 with value: 0.26206500496736523.\n"
     ]
    },
    {
     "name": "stdout",
     "output_type": "stream",
     "text": [
      "Наилучшие значения гиперпараметров {'max_depth': 33, 'min_samples_leaf': 3, 'n_estimators': 100, 'learning_rate': 0.13}\n",
      "MAPE на тестовом наборе: 0.26\n"
     ]
    }
   ],
   "source": [
    "# Выполним еще 10 итераций подбора гиперпараметров\n",
    "study_ab.optimize(optuna_rf, n_trials=10)\n",
    "\n",
    "print(\"Наилучшие значения гиперпараметров {}\".format(study_ab.best_params))\n",
    "print(\"MAPE на тестовом наборе: {:.2f}\".format(study_ab.best_value))"
   ]
  },
  {
   "cell_type": "markdown",
   "metadata": {
    "cellId": "k234gdnwbtt5xc53ayj6a",
    "execution_id": "d0726058-7cf0-4829-bc73-315144e9002c"
   },
   "source": [
    "Построим модель, используя подобранные параметры\n"
   ]
  },
  {
   "cell_type": "code",
   "execution_count": 174,
   "metadata": {
    "cellId": "b44jxxfn7tefdiz2lm3a2i"
   },
   "outputs": [
    {
     "name": "stdout",
     "output_type": "stream",
     "text": [
      "Train MAE: 34690.681\n",
      "Train MAPE: 5.682\n",
      "Train R^2: 0.982\n",
      "Test MAE: 117589.925\n",
      "Test MAPE: 21.542\n",
      "Test R^2: 0.796\n"
     ]
    }
   ],
   "source": [
    "# ЛОГАРИФМИРУЕМ ЧИСЛОВЫЕ И ЦЕЛЕВОЙ ПРИЗНАКИ\n",
    "\n",
    "# Создаем объект класса дерева решений\n",
    "dtr_log_model = DecisionTreeRegressor(max_depth=33, min_samples_leaf=3, random_state=42)\n",
    "\n",
    "# Создаем объект класса AdaBoost и обучаем модель\n",
    "ab_log_model = AdaBoostRegressor(estimator=dtr_log_model, n_estimators=100, learning_rate=0.13, random_state=42)\n",
    "ab_log_model.fit(X_train_log_scaled, np.log(y_train_log))\n",
    "\n",
    "# Формируем предсказание\n",
    "ab_log_train_pred  = np.exp(ab_log_model.predict(X_train_log_scaled))\n",
    "ab_log_test_pred  = np.exp(ab_log_model.predict(X_test_log_scaled))\n",
    "\n",
    "print_metrics(y_train_log, ab_log_train_pred, y_test_log, ab_log_test_pred)"
   ]
  },
  {
   "cell_type": "markdown",
   "metadata": {
    "cellId": "ed1pyb2zysaqg5m3on0vp",
    "execution_id": "ef8fd141-a10b-4971-b93f-ee221fe496f4"
   },
   "source": [
    "Optuna - мощный инструмент, но пока что побороть переобуение он нам не помог, разница в MAPE на train и test выборках почти 16%.\n",
    "Конечно, метрики сейчас кажутся хорошими, но если проболжать работу с адаптивным бустингом и искать точку баланса с минимальным переобучением, то тестовые метрики однозначно снизятся, возможно, что существенно.\n",
    "\n",
    "Пока попробуем другие ансамблевые алгоритмы и будем сравнивать уже все их вместе."
   ]
  },
  {
   "cell_type": "markdown",
   "metadata": {
    "cellId": "x4fx5rebw0nlv1vhskq7hj",
    "execution_id": "8f3137f7-646a-4d16-893f-53a1b61d8f7a"
   },
   "source": [
    "### Градиентный бустинг"
   ]
  },
  {
   "cell_type": "markdown",
   "metadata": {
    "cellId": "ctq6nggqb4jxwdcwps20ji",
    "execution_id": "590daa98-3c77-4522-82b2-75952dce4eab"
   },
   "source": [
    "Построим ансамбли градиентного бустинга над деревьями решений с параметрами по умолчанию"
   ]
  },
  {
   "cell_type": "code",
   "execution_count": 159,
   "metadata": {
    "cellId": "swqanxp5i37q18nnpamoa"
   },
   "outputs": [
    {
     "name": "stdout",
     "output_type": "stream",
     "text": [
      "Train MAE: 210757.392\n",
      "Train MAPE: 55.979\n",
      "Train R^2: 0.645\n",
      "Test MAE: 209366.632\n",
      "Test MAPE: 54.954\n",
      "Test R^2: 0.631\n"
     ]
    }
   ],
   "source": [
    "# Создаем объект класса градиентный бустинг и обучаем модель\n",
    "gbr_model = GradientBoostingRegressor(random_state=42)\n",
    "gbr_model.fit(X_train_scaled, y_train)\n",
    "\n",
    "# Формируем предсказание\n",
    "gbr_train_pred  = gbr_model.predict(X_train_scaled)\n",
    "gbr_test_pred  = gbr_model.predict(X_test_scaled)\n",
    "\n",
    "print_metrics(y_train, gbr_train_pred, y_test, gbr_test_pred)"
   ]
  },
  {
   "cell_type": "code",
   "execution_count": 160,
   "metadata": {
    "cellId": "xjcuzutejebf45x6j44cfl"
   },
   "outputs": [
    {
     "name": "stdout",
     "output_type": "stream",
     "text": [
      "Train MAE: 197355.879\n",
      "Train MAPE: 39.119\n",
      "Train R^2: 0.571\n",
      "Test MAE: 196826.337\n",
      "Test MAPE: 38.787\n",
      "Test R^2: 0.566\n"
     ]
    }
   ],
   "source": [
    "# ЛОГАРИФМИРУЕМ ЧИСЛОВЫЕ И ЦЕЛЕВОЙ ПРИЗНАКИ\n",
    "\n",
    "# Создаем объект класса градиентный бустинг и обучаем модель\n",
    "gbr_log_model = GradientBoostingRegressor(random_state=42)\n",
    "gbr_log_model.fit(X_train_log_scaled, np.log(y_train_log))\n",
    "\n",
    "# Формируем предсказание\n",
    "gbr_log_train_pred  = np.exp(gbr_log_model.predict(X_train_log_scaled))\n",
    "gbr_log_test_pred  = np.exp(gbr_log_model.predict(X_test_log_scaled))\n",
    "\n",
    "print_metrics(y_train_log, gbr_log_train_pred, y_test_log, gbr_log_test_pred)"
   ]
  },
  {
   "cell_type": "markdown",
   "metadata": {
    "cellId": "83kuwojy2o7mqpzonqasm",
    "execution_id": "ec7dd42f-1ceb-49b0-93b8-dbb332bfecd3"
   },
   "source": [
    "Пока что результат не впечатляет. Видим, что на логарифмированных признаках, алгоритм работает лучше, переобучения нет. Но даже простое дерево решений показало результат лучше. \n",
    "\n",
    "Попробуем улучшить результат, подобрав оптимальные гиперпараметры для второго набора данных."
   ]
  },
  {
   "cell_type": "code",
   "execution_count": 161,
   "metadata": {
    "cellId": "wbo5n1webiegt9fk1u4stb"
   },
   "outputs": [
    {
     "name": "stderr",
     "output_type": "stream",
     "text": [
      "[I 2023-10-31 16:35:59,584] A new study created in memory with name: GradientBoostingRegressor\n",
      "[I 2023-10-31 16:41:20,667] Trial 0 finished with value: 0.2868278968853489 and parameters: {'n_estimators': 200, 'learning_rate': 0.64, 'max_depth': 7, 'min_samples_leaf': 10}. Best is trial 0 with value: 0.2868278968853489.\n",
      "[I 2023-10-31 17:01:46,833] Trial 1 finished with value: 0.32219197468970745 and parameters: {'n_estimators': 200, 'learning_rate': 0.64, 'max_depth': 29, 'min_samples_leaf': 9}. Best is trial 0 with value: 0.2868278968853489.\n",
      "[I 2023-10-31 17:20:20,650] Trial 2 finished with value: 0.2738096316345595 and parameters: {'n_estimators': 150, 'learning_rate': 0.25, 'max_depth': 37, 'min_samples_leaf': 9}. Best is trial 2 with value: 0.2738096316345595.\n",
      "[I 2023-10-31 17:27:11,012] Trial 3 finished with value: 0.25169189134082126 and parameters: {'n_estimators': 200, 'learning_rate': 0.06999999999999999, 'max_depth': 9, 'min_samples_leaf': 2}. Best is trial 3 with value: 0.25169189134082126.\n",
      "[I 2023-10-31 17:32:13,790] Trial 4 finished with value: 0.4052904902316096 and parameters: {'n_estimators': 75, 'learning_rate': 0.01, 'max_depth': 29, 'min_samples_leaf': 8}. Best is trial 3 with value: 0.25169189134082126.\n",
      "[I 2023-10-31 17:40:13,358] Trial 5 finished with value: 0.27189445384273125 and parameters: {'n_estimators': 300, 'learning_rate': 0.49, 'max_depth': 7, 'min_samples_leaf': 3}. Best is trial 3 with value: 0.25169189134082126.\n",
      "[I 2023-10-31 17:55:29,524] Trial 6 finished with value: 0.3100114767179006 and parameters: {'n_estimators': 200, 'learning_rate': 0.58, 'max_depth': 21, 'min_samples_leaf': 10}. Best is trial 3 with value: 0.25169189134082126.\n",
      "[I 2023-10-31 18:21:24,560] Trial 7 finished with value: 0.3773131202606546 and parameters: {'n_estimators': 225, 'learning_rate': 0.4, 'max_depth': 37, 'min_samples_leaf': 1}. Best is trial 3 with value: 0.25169189134082126.\n",
      "[I 2023-10-31 18:47:26,539] Trial 8 finished with value: 0.32628062320892753 and parameters: {'n_estimators': 250, 'learning_rate': 0.61, 'max_depth': 29, 'min_samples_leaf': 3}. Best is trial 3 with value: 0.25169189134082126.\n",
      "[I 2023-10-31 19:01:49,999] Trial 9 finished with value: 0.37096941858393984 and parameters: {'n_estimators': 125, 'learning_rate': 0.43, 'max_depth': 31, 'min_samples_leaf': 1}. Best is trial 3 with value: 0.25169189134082126.\n"
     ]
    },
    {
     "name": "stdout",
     "output_type": "stream",
     "text": [
      "Наилучшие значения гиперпараметров {'n_estimators': 200, 'learning_rate': 0.06999999999999999, 'max_depth': 9, 'min_samples_leaf': 2}\n",
      "MAPE на тестовом наборе: 0.25\n"
     ]
    }
   ],
   "source": [
    "def optuna_rf(trial):\n",
    "  # задаем пространства поиска гиперпараметров\n",
    "  n_estimators = trial.suggest_int('n_estimators', 50, 300, 25)\n",
    "  learning_rate = trial.suggest_float('learning_rate', 0.01, 0.7, step=0.03)\n",
    "  max_depth = trial.suggest_int('max_depth', 5, 39, 2)\n",
    "  min_samples_leaf = trial.suggest_int('min_samples_leaf', 1, 10, 1)\n",
    "  # создаем и обучаем модель\n",
    "  model = GradientBoostingRegressor(n_estimators=n_estimators, \n",
    "                                    learning_rate=learning_rate, \n",
    "                                    max_depth=max_depth, \n",
    "                                    min_samples_leaf=min_samples_leaf, \n",
    "                                    random_state=42)\n",
    "  model.fit(X_train_log_scaled, np.log(y_train_log))\n",
    "  score = cross_val_score(model, X_test_log_scaled, np.log(y_test_log), cv=3, scoring='neg_mean_absolute_error', n_jobs=-1).mean()\n",
    "  return abs(score)\n",
    "\n",
    "# cоздаем объект исследования и ищем лучшую комбинацию гиперпараметров\n",
    "study_gbr = optuna.create_study(study_name=\"GradientBoostingRegressor\", direction=\"minimize\")\n",
    "study_gbr.optimize(optuna_rf, n_trials=10)\n",
    "\n",
    "print(\"Наилучшие значения гиперпараметров {}\".format(study_gbr.best_params))\n",
    "print(\"MAPE на тестовом наборе: {:.2f}\".format(study_gbr.best_value))"
   ]
  },
  {
   "cell_type": "code",
   "execution_count": 162,
   "metadata": {
    "cellId": "22wtkiuzpdcoivyiy0ahga"
   },
   "outputs": [
    {
     "name": "stderr",
     "output_type": "stream",
     "text": [
      "[I 2023-10-31 19:04:46,984] Trial 10 finished with value: 0.4675573149190666 and parameters: {'n_estimators': 50, 'learning_rate': 0.01, 'max_depth': 17, 'min_samples_leaf': 6}. Best is trial 3 with value: 0.25169189134082126.\n",
      "[I 2023-10-31 19:10:35,276] Trial 11 finished with value: 0.259486945428929 and parameters: {'n_estimators': 300, 'learning_rate': 0.16, 'max_depth': 5, 'min_samples_leaf': 4}. Best is trial 3 with value: 0.25169189134082126.\n",
      "[I 2023-10-31 19:25:19,399] Trial 12 finished with value: 0.25157614822219715 and parameters: {'n_estimators': 300, 'learning_rate': 0.19, 'max_depth': 13, 'min_samples_leaf': 4}. Best is trial 12 with value: 0.25157614822219715.\n",
      "[I 2023-10-31 19:37:33,103] Trial 13 finished with value: 0.2518551247827272 and parameters: {'n_estimators': 250, 'learning_rate': 0.19, 'max_depth': 13, 'min_samples_leaf': 5}. Best is trial 12 with value: 0.25157614822219715.\n",
      "[I 2023-10-31 19:43:39,101] Trial 14 finished with value: 0.2507850504462082 and parameters: {'n_estimators': 125, 'learning_rate': 0.13, 'max_depth': 13, 'min_samples_leaf': 2}. Best is trial 14 with value: 0.2507850504462082.\n",
      "[I 2023-10-31 19:49:11,823] Trial 15 finished with value: 0.26513290957904184 and parameters: {'n_estimators': 100, 'learning_rate': 0.28, 'max_depth': 15, 'min_samples_leaf': 6}. Best is trial 14 with value: 0.2507850504462082.\n",
      "[I 2023-10-31 20:00:36,526] Trial 16 finished with value: 0.27288478234802155 and parameters: {'n_estimators': 150, 'learning_rate': 0.13, 'max_depth': 21, 'min_samples_leaf': 4}. Best is trial 14 with value: 0.2507850504462082.\n",
      "[I 2023-10-31 20:06:46,770] Trial 17 finished with value: 0.26586789254667703 and parameters: {'n_estimators': 125, 'learning_rate': 0.31, 'max_depth': 13, 'min_samples_leaf': 2}. Best is trial 14 with value: 0.2507850504462082.\n",
      "[I 2023-10-31 20:18:09,802] Trial 18 finished with value: 0.24834783676691452 and parameters: {'n_estimators': 275, 'learning_rate': 0.22, 'max_depth': 11, 'min_samples_leaf': 7}. Best is trial 18 with value: 0.24834783676691452.\n",
      "[I 2023-10-31 20:35:08,272] Trial 19 finished with value: 0.25706155026573146 and parameters: {'n_estimators': 250, 'learning_rate': 0.09999999999999999, 'max_depth': 19, 'min_samples_leaf': 7}. Best is trial 18 with value: 0.24834783676691452.\n"
     ]
    },
    {
     "name": "stdout",
     "output_type": "stream",
     "text": [
      "Наилучшие значения гиперпараметров {'n_estimators': 275, 'learning_rate': 0.22, 'max_depth': 11, 'min_samples_leaf': 7}\n",
      "MAPE на тестовом наборе: 0.25\n"
     ]
    }
   ],
   "source": [
    "# Выполним еще 10 итераций подбора гиперпараметров\n",
    "study_gbr.optimize(optuna_rf, n_trials=10)\n",
    "\n",
    "print(\"Наилучшие значения гиперпараметров {}\".format(study_gbr.best_params))\n",
    "print(\"MAPE на тестовом наборе: {:.2f}\".format(study_gbr.best_value))"
   ]
  },
  {
   "cell_type": "markdown",
   "metadata": {
    "cellId": "2is8zlek3n2avlptzy9fmf",
    "execution_id": "b68d6b1b-c2b9-47a9-8587-e7a8ad24956e"
   },
   "source": [
    "Построим модель, используя подобранные параметры"
   ]
  },
  {
   "cell_type": "code",
   "execution_count": 175,
   "metadata": {
    "cellId": "l93rf2bj50s7xsdzz3jx7e"
   },
   "outputs": [
    {
     "name": "stdout",
     "output_type": "stream",
     "text": [
      "Train MAE: 64297.733\n",
      "Train MAPE: 11.794\n",
      "Train R^2: 0.950\n",
      "Test MAE: 117255.360\n",
      "Test MAPE: 20.861\n",
      "Test R^2: 0.815\n"
     ]
    }
   ],
   "source": [
    "# ЛОГАРИФМИРУЕМ ЧИСЛОВЫЕ И ЦЕЛЕВОЙ ПРИЗНАКИ\n",
    "\n",
    "# Создаем объект класса градиентный бустинг и обучаем модель\n",
    "gbr_log_model = GradientBoostingRegressor(n_estimators=275, learning_rate=0.22, max_depth=11, min_samples_leaf=7, random_state=42)\n",
    "gbr_log_model.fit(X_train_log_scaled, np.log(y_train_log))\n",
    "\n",
    "# Формируем предсказание\n",
    "gbr_log_train_pred  = np.exp(gbr_log_model.predict(X_train_log_scaled))\n",
    "gbr_log_test_pred  = np.exp(gbr_log_model.predict(X_test_log_scaled))\n",
    "\n",
    "print_metrics(y_train_log, gbr_log_train_pred, y_test_log, gbr_log_test_pred)"
   ]
  },
  {
   "cell_type": "markdown",
   "metadata": {
    "cellId": "bxnpfe7rqcne75qatg59j",
    "execution_id": "56c6198b-2c58-4cdf-a1c0-f8baece9ad08"
   },
   "source": [
    "Ситуация изменилась, но не могу сказать, что результат устраивает. Снова видим переобучение модели, разница в MAPE на train и test составляет 9%. И хотя по MAPE и R2 сейчас показатели лучше, чем у всех опробованных моделей, в борьбе с переобучением они снова просядут.\n",
    "\n",
    "Продолжим пока тестировать другие модели."
   ]
  },
  {
   "cell_type": "markdown",
   "metadata": {
    "cellId": "5ro5i8f0a2lk0wp97bc5h",
    "execution_id": "778792a6-eb78-44e9-9216-db964b7df0c8"
   },
   "source": [
    "### Случайный лес"
   ]
  },
  {
   "cell_type": "markdown",
   "metadata": {
    "cellId": "2lrephhejtgv2tjsom3lqj",
    "execution_id": "98b457aa-a51c-4f13-983d-e66b7007ba14"
   },
   "source": [
    "Построим ансамбли случайного леса с параметрами по умолчанию"
   ]
  },
  {
   "cell_type": "code",
   "execution_count": 170,
   "metadata": {
    "cellId": "kdohc0lti3qo2h3dk8j48o"
   },
   "outputs": [
    {
     "name": "stdout",
     "output_type": "stream",
     "text": [
      "Train MAE: 49284.873\n",
      "Train MAPE: 11.048\n",
      "Train R^2: 0.972\n",
      "Test MAE: 130294.318\n",
      "Test MAPE: 29.063\n",
      "Test R^2: 0.802\n"
     ]
    }
   ],
   "source": [
    "#Создаем объект класса случайный лес и обучаем модель\n",
    "rfr_model = RandomForestRegressor(random_state=42)\n",
    "rfr_model.fit(X_train_scaled, y_train)\n",
    "\n",
    "# Формируем предсказание\n",
    "rfr_train_pred = rfr_model.predict(X_train_scaled)\n",
    "rfr_test_pred = rfr_model.predict(X_test_scaled)\n",
    "\n",
    "print_metrics(y_train, rfr_train_pred, y_test, rfr_test_pred)"
   ]
  },
  {
   "cell_type": "code",
   "execution_count": 171,
   "metadata": {
    "cellId": "kq0phix38h0oh9tnz38ywe"
   },
   "outputs": [
    {
     "name": "stdout",
     "output_type": "stream",
     "text": [
      "Train MAE: 51596.217\n",
      "Train MAPE: 7.923\n",
      "Train R^2: 0.948\n",
      "Test MAE: 126118.558\n",
      "Test MAPE: 22.703\n",
      "Test R^2: 0.775\n"
     ]
    }
   ],
   "source": [
    "# ЛОГАРИФМИРУЕМ ЧИСЛОВЫЕ И ЦЕЛЕВОЙ ПРИЗНАКИ\n",
    "\n",
    "#Создаем объект класса случайный лес и обучаем модель\n",
    "rfr_log_model = RandomForestRegressor(random_state=42)\n",
    "rfr_log_model.fit(X_train_log_scaled, np.log(y_train_log))\n",
    "\n",
    "# Формируем предсказание\n",
    "rfr_log_train_pred = np.exp(rfr_log_model.predict(X_train_log_scaled))\n",
    "rfr_log_test_pred = np.exp(rfr_log_model.predict(X_test_log_scaled))\n",
    "\n",
    "print_metrics(y_train_log, rfr_log_train_pred, y_test_log, rfr_log_test_pred)"
   ]
  },
  {
   "cell_type": "markdown",
   "metadata": {
    "cellId": "hwph85879saa487adt7uo",
    "execution_id": "e11b2f4d-c81a-4711-bd3a-89662b96e16f"
   },
   "source": [
    "И вновь проблема переобучения. Вцелом метрики сравнимы с результатами других ансамблей. Видим, что на логарифмированных признаках, алгоритм работает лучше. Попробуем улучшить результат, подобрав оптимальные гиперпараметры для второго набора данных."
   ]
  },
  {
   "cell_type": "code",
   "execution_count": 166,
   "metadata": {
    "cellId": "3a8y5h6f2kys7fkran76b"
   },
   "outputs": [
    {
     "name": "stderr",
     "output_type": "stream",
     "text": [
      "[I 2023-10-31 20:46:42,331] A new study created in memory with name: RandomForestRegressor\n",
      "[I 2023-10-31 20:54:46,420] Trial 0 finished with value: 0.2759756932394308 and parameters: {'n_estimators': 175, 'max_depth': 39, 'min_samples_leaf': 3}. Best is trial 0 with value: 0.2759756932394308.\n",
      "[I 2023-10-31 21:05:20,206] Trial 1 finished with value: 0.2840619784921627 and parameters: {'n_estimators': 250, 'max_depth': 37, 'min_samples_leaf': 6}. Best is trial 0 with value: 0.2759756932394308.\n",
      "[I 2023-10-31 21:13:47,813] Trial 2 finished with value: 0.28433619880614147 and parameters: {'n_estimators': 200, 'max_depth': 37, 'min_samples_leaf': 6}. Best is trial 0 with value: 0.2759756932394308.\n",
      "[I 2023-10-31 21:19:38,866] Trial 3 finished with value: 0.2920591237904014 and parameters: {'n_estimators': 150, 'max_depth': 21, 'min_samples_leaf': 9}. Best is trial 0 with value: 0.2759756932394308.\n",
      "[I 2023-10-31 21:31:54,430] Trial 4 finished with value: 0.27842172991434416 and parameters: {'n_estimators': 275, 'max_depth': 35, 'min_samples_leaf': 4}. Best is trial 0 with value: 0.2759756932394308.\n",
      "[I 2023-10-31 21:41:06,506] Trial 5 finished with value: 0.2889081374106331 and parameters: {'n_estimators': 225, 'max_depth': 29, 'min_samples_leaf': 8}. Best is trial 0 with value: 0.2759756932394308.\n",
      "[I 2023-10-31 21:41:45,755] Trial 6 finished with value: 0.4476405067429206 and parameters: {'n_estimators': 50, 'max_depth': 5, 'min_samples_leaf': 10}. Best is trial 0 with value: 0.2759756932394308.\n",
      "[I 2023-10-31 21:51:26,963] Trial 7 finished with value: 0.2937784574186819 and parameters: {'n_estimators': 250, 'max_depth': 21, 'min_samples_leaf': 10}. Best is trial 0 with value: 0.2759756932394308.\n",
      "[I 2023-10-31 22:02:45,543] Trial 8 finished with value: 0.2910828859047215 and parameters: {'n_estimators': 275, 'max_depth': 35, 'min_samples_leaf': 9}. Best is trial 0 with value: 0.2759756932394308.\n",
      "[I 2023-10-31 22:17:06,428] Trial 9 finished with value: 0.2738970449443843 and parameters: {'n_estimators': 300, 'max_depth': 23, 'min_samples_leaf': 1}. Best is trial 9 with value: 0.2738970449443843.\n"
     ]
    },
    {
     "name": "stdout",
     "output_type": "stream",
     "text": [
      "Наилучшие значения гиперпараметров {'n_estimators': 300, 'max_depth': 23, 'min_samples_leaf': 1}\n",
      "MAPE на тестовом наборе: 0.27\n"
     ]
    }
   ],
   "source": [
    "def optuna_rf(trial):\n",
    "  # задаем пространства поиска гиперпараметров\n",
    "  n_estimators = trial.suggest_int('n_estimators', 50, 300, 25)\n",
    "  max_depth = trial.suggest_int('max_depth', 5, 39, 2)\n",
    "  min_samples_leaf = trial.suggest_int('min_samples_leaf', 1, 10, 1)\n",
    "  # создаем и обучаем модель\n",
    "  model = RandomForestRegressor(n_estimators=n_estimators, max_depth=max_depth, min_samples_leaf=min_samples_leaf, random_state=42)\n",
    "  model.fit(X_train_log_scaled, np.log(y_train_log))\n",
    "  score = cross_val_score(model, X_test_log_scaled, np.log(y_test_log), cv=3, scoring='neg_mean_absolute_error', n_jobs=-1).mean()\n",
    "  return abs(score)\n",
    "\n",
    "# cоздаем объект исследования и ищем лучшую комбинацию гиперпараметров\n",
    "study_rfr = optuna.create_study(study_name=\"RandomForestRegressor\", direction=\"minimize\")\n",
    "study_rfr.optimize(optuna_rf, n_trials=10)\n",
    "\n",
    "print(\"Наилучшие значения гиперпараметров {}\".format(study_rfr.best_params))\n",
    "print(\"MAPE на тестовом наборе: {:.2f}\".format(study_rfr.best_value))"
   ]
  },
  {
   "cell_type": "code",
   "execution_count": 167,
   "metadata": {
    "cellId": "4uskzslvghca7jik7tri"
   },
   "outputs": [
    {
     "name": "stderr",
     "output_type": "stream",
     "text": [
      "[I 2023-10-31 22:19:51,219] Trial 10 finished with value: 0.32584602435942833 and parameters: {'n_estimators': 100, 'max_depth': 11, 'min_samples_leaf': 1}. Best is trial 9 with value: 0.2738970449443843.\n",
      "[I 2023-10-31 22:27:27,988] Trial 11 finished with value: 0.27335707126534226 and parameters: {'n_estimators': 150, 'max_depth': 27, 'min_samples_leaf': 1}. Best is trial 11 with value: 0.27335707126534226.\n",
      "[I 2023-10-31 22:33:51,505] Trial 12 finished with value: 0.2735540592436382 and parameters: {'n_estimators': 125, 'max_depth': 27, 'min_samples_leaf': 1}. Best is trial 11 with value: 0.27335707126534226.\n",
      "[I 2023-10-31 22:39:32,289] Trial 13 finished with value: 0.27650707607462516 and parameters: {'n_estimators': 125, 'max_depth': 27, 'min_samples_leaf': 3}. Best is trial 11 with value: 0.27335707126534226.\n",
      "[I 2023-10-31 22:43:11,692] Trial 14 finished with value: 0.27469844911638536 and parameters: {'n_estimators': 75, 'max_depth': 29, 'min_samples_leaf': 2}. Best is trial 11 with value: 0.27335707126534226.\n",
      "[I 2023-10-31 22:48:51,421] Trial 15 finished with value: 0.2872215377399299 and parameters: {'n_estimators': 150, 'max_depth': 17, 'min_samples_leaf': 4}. Best is trial 11 with value: 0.27335707126534226.\n",
      "[I 2023-10-31 22:52:22,178] Trial 16 finished with value: 0.2938456346730119 and parameters: {'n_estimators': 100, 'max_depth': 15, 'min_samples_leaf': 1}. Best is trial 11 with value: 0.27335707126534226.\n",
      "[I 2023-10-31 23:00:01,699] Trial 17 finished with value: 0.281651066138551 and parameters: {'n_estimators': 175, 'max_depth': 31, 'min_samples_leaf': 5}. Best is trial 11 with value: 0.27335707126534226.\n",
      "[I 2023-10-31 23:05:55,197] Trial 18 finished with value: 0.274620708628143 and parameters: {'n_estimators': 125, 'max_depth': 25, 'min_samples_leaf': 2}. Best is trial 11 with value: 0.27335707126534226.\n",
      "[I 2023-10-31 23:15:35,576] Trial 19 finished with value: 0.27353453584907983 and parameters: {'n_estimators': 200, 'max_depth': 33, 'min_samples_leaf': 2}. Best is trial 11 with value: 0.27335707126534226.\n"
     ]
    },
    {
     "name": "stdout",
     "output_type": "stream",
     "text": [
      "Наилучшие значения гиперпараметров {'n_estimators': 150, 'max_depth': 27, 'min_samples_leaf': 1}\n",
      "MAPE на тестовом наборе: 0.27\n"
     ]
    }
   ],
   "source": [
    "# Выполним еще 10 итераций подбора гиперпараметров\n",
    "study_rfr.optimize(optuna_rf, n_trials=10)\n",
    "\n",
    "print(\"Наилучшие значения гиперпараметров {}\".format(study_rfr.best_params))\n",
    "print(\"MAPE на тестовом наборе: {:.2f}\".format(study_rfr.best_value))"
   ]
  },
  {
   "cell_type": "markdown",
   "metadata": {
    "cellId": "wl0i77i88kgq7o56jhe2sg",
    "execution_id": "5a41f6da-2e98-4a20-8d8b-088e702c1daa"
   },
   "source": [
    "Построим модель, используя подобранные параметры"
   ]
  },
  {
   "cell_type": "code",
   "execution_count": 176,
   "metadata": {
    "cellId": "mw470m684m89fgw4pnn9xa"
   },
   "outputs": [
    {
     "name": "stdout",
     "output_type": "stream",
     "text": [
      "Train MAE: 55117.997\n",
      "Train MAPE: 9.265\n",
      "Train R^2: 0.948\n",
      "Test MAE: 126764.538\n",
      "Test MAPE: 22.959\n",
      "Test R^2: 0.775\n"
     ]
    }
   ],
   "source": [
    "# ЛОГАРИФМИРУЕМ ЧИСЛОВЫЕ И ЦЕЛЕВОЙ ПРИЗНАКИ\n",
    "\n",
    "#Создаем объект класса случайный лес и обучаем модель\n",
    "rfr_log_model = RandomForestRegressor(n_estimators=150, max_depth=27, min_samples_leaf=1, random_state=42)\n",
    "rfr_log_model.fit(X_train_log_scaled, np.log(y_train_log))\n",
    "\n",
    "# Формируем предсказание\n",
    "rfr_log_train_pred = np.exp(rfr_log_model.predict(X_train_log_scaled))\n",
    "rfr_log_test_pred = np.exp(rfr_log_model.predict(X_test_log_scaled))\n",
    "\n",
    "print_metrics(y_train_log, rfr_log_train_pred, y_test_log, rfr_log_test_pred)"
   ]
  },
  {
   "cell_type": "markdown",
   "metadata": {
    "cellId": "2t5b2t0rxijhfwz7zxhoy7",
    "execution_id": "5227f8ba-92aa-4b14-a366-bf24d0932811"
   },
   "source": [
    "Хоть и метрики немного подросли, переобучение не ушло. Результаты сравнимы с другими ансамблевыми моделями. Двигаемся дальше."
   ]
  },
  {
   "cell_type": "markdown",
   "metadata": {
    "cellId": "8brese6h4kwskb5ok2y63o",
    "execution_id": "b35d5387-3d10-468a-85a9-8749687a6ff4"
   },
   "source": [
    "### CatBoost Regressor"
   ]
  },
  {
   "cell_type": "markdown",
   "metadata": {
    "cellId": "irhi5nkw15dvlxsnzxd4sn",
    "execution_id": "7db90069-d27e-4f42-bdb2-cc253734050e"
   },
   "source": [
    "CatBoost - ансамблевый метод от Яндекса, основанный на теории деревьев решений и повышения градиента. Его особенность в возможности обработки категориальных данных напрямую, без предварительного их кодирования.\n",
    "\n",
    "Поэтому придется вернуться к очищенному датасету и вновь сделать разбиение выборки, а также передать в алгоритм список категориальных признаков."
   ]
  },
  {
   "cell_type": "code",
   "execution_count": 177,
   "metadata": {
    "cellId": "pc96fx8xutedha74ihwxre"
   },
   "outputs": [],
   "source": [
    "# Выполним повторное разбиение исходного датасета (до кодирования) и нормализуем данные\n",
    "\n",
    "data_cat = data.copy()\n",
    "\n",
    "# 1-й набор данных\n",
    "X_cat = data_cat.drop(['target'], axis=1)\n",
    "y_cat = data_cat['target']\n",
    "X_train_cat, X_test_cat, y_train_cat, y_test_cat = train_test_split(X_cat, y_cat, test_size=0.20, random_state=42)\n",
    "\n",
    "# 2-й набор данных\n",
    "data_cat_log = data_cat.copy()\n",
    "for column in ['sqft', 'school_rating', 'beds_area', 'baths_area', 'lotsize_sqft']:\n",
    "    data_cat_log[column] = np.log(data_cat_log[column])\n",
    "data_cat_log[column] = np.log(data_cat_log['school_min_distance']+1)\n",
    "\n",
    "X_cat_log = data_cat_log.drop(['target'], axis=1)\n",
    "y_cat_log = data_cat_log['target']\n",
    "X_train_cat_log, X_test_cat_log, y_train_cat_log, y_test_cat_log = train_test_split(X_cat_log, y_cat_log, test_size=0.20, random_state=42)\n",
    "\n",
    "# Cоставим список категориальных признаков\n",
    "cat_list = ['status', 'zipcode', 'state', 'property_add_type']"
   ]
  },
  {
   "cell_type": "markdown",
   "metadata": {
    "cellId": "jmvr7m16h78agoe8x2t5j",
    "execution_id": "4c19f137-29c6-4aa6-a338-7c1dbff026c0"
   },
   "source": [
    "Построим ансамбли CatBoost с параметрами по умолчанию "
   ]
  },
  {
   "cell_type": "code",
   "execution_count": 178,
   "metadata": {
    "cellId": "nw7irgu3fm2iit4lvfkav"
   },
   "outputs": [
    {
     "name": "stdout",
     "output_type": "stream",
     "text": [
      "Train MAE: 140065.234\n",
      "Train MAPE: 31.975\n",
      "Train R^2: 0.830\n",
      "Test MAE: 147876.848\n",
      "Test MAPE: 32.447\n",
      "Test R^2: 0.783\n"
     ]
    }
   ],
   "source": [
    "#Создаем объект класса CatBoost и обучаем модель\n",
    "cb_model = CatBoostRegressor(random_seed=42, silent=True)\n",
    "cb_model.fit(X_train_cat, y_train_cat, cat_features=cat_list)\n",
    "\n",
    "# Формируем предсказание\n",
    "cb_train_pred = cb_model.predict(X_train_cat)\n",
    "cb_test_pred = cb_model.predict(X_test_cat)\n",
    "\n",
    "print_metrics(y_train_cat, cb_train_pred, y_test_cat, cb_test_pred)"
   ]
  },
  {
   "cell_type": "code",
   "execution_count": 179,
   "metadata": {
    "cellId": "otlnnv4earrlflz64o0o4c"
   },
   "outputs": [
    {
     "name": "stdout",
     "output_type": "stream",
     "text": [
      "Train MAE: 136324.059\n",
      "Train MAPE: 23.968\n",
      "Train R^2: 0.769\n",
      "Test MAE: 139848.813\n",
      "Test MAPE: 24.688\n",
      "Test R^2: 0.750\n"
     ]
    }
   ],
   "source": [
    "# ЛОГАРИФМИРУЕМ ЧИСЛОВЫЕ И ЦЕЛЕВОЙ ПРИЗНАКИ\n",
    "\n",
    "#Создаем объект класса CatBoost и обучаем модель\n",
    "cb_log_model = CatBoostRegressor(random_seed=42, silent=True)\n",
    "cb_log_model.fit(X_train_cat_log, np.log(y_train_cat_log), cat_features=cat_list)\n",
    "\n",
    "# Формируем предсказание\n",
    "cb_log_train_pred = np.exp(cb_log_model.predict(X_train_cat_log))\n",
    "cb_log_test_pred = np.exp(cb_log_model.predict(X_test_cat_log))\n",
    "\n",
    "print_metrics(y_train_cat_log, cb_log_train_pred, y_test_cat_log, cb_log_test_pred)"
   ]
  },
  {
   "cell_type": "markdown",
   "metadata": {
    "cellId": "zk1ruczqlzi9mzg59blqlv",
    "execution_id": "0a99581a-68f9-4c41-bcc3-ff9b8960f040"
   },
   "source": [
    "Результат CatBoost очень порадовал даже с настройками по умолчанию. Модель, построенная на логарифмированных признаках, вновь показала самые лучшие метрики. Переобучения практически нет, метрика MAPE - 24.688% на тестовой выборке, достаточно высокий R2 - 0.75.\n",
    "\n",
    "Попробуем подобрать гиперпараметры для второго набора данных и еще улучшить результат."
   ]
  },
  {
   "cell_type": "code",
   "execution_count": 190,
   "metadata": {
    "cellId": "69vua59zfivolehewvs7bp"
   },
   "outputs": [
    {
     "name": "stderr",
     "output_type": "stream",
     "text": [
      "[I 2023-11-01 07:00:02,212] A new study created in memory with name: CatBoostRegressor\n",
      "[I 2023-11-01 07:03:01,495] Trial 0 finished with value: 0.2213735913904342 and parameters: {'iterations': 300, 'learning_rate': 0.13, 'depth': 15}. Best is trial 0 with value: 0.2213735913904342.\n",
      "[I 2023-11-01 07:03:12,152] Trial 1 finished with value: 0.25025122221501217 and parameters: {'iterations': 175, 'learning_rate': 0.43, 'depth': 11}. Best is trial 0 with value: 0.2213735913904342.\n",
      "[I 2023-11-01 07:05:44,184] Trial 2 finished with value: 0.24898311857630268 and parameters: {'iterations': 250, 'learning_rate': 0.6699999999999999, 'depth': 15}. Best is trial 0 with value: 0.2213735913904342.\n",
      "[I 2023-11-01 07:08:46,298] Trial 3 finished with value: 0.23500857079501608 and parameters: {'iterations': 300, 'learning_rate': 0.49, 'depth': 15}. Best is trial 0 with value: 0.2213735913904342.\n",
      "[I 2023-11-01 07:10:35,505] Trial 4 finished with value: 0.2336130954648386 and parameters: {'iterations': 300, 'learning_rate': 0.49, 'depth': 14}. Best is trial 0 with value: 0.2213735913904342.\n",
      "[I 2023-11-01 07:10:46,119] Trial 5 finished with value: 0.2657439049642436 and parameters: {'iterations': 200, 'learning_rate': 0.22, 'depth': 6}. Best is trial 0 with value: 0.2213735913904342.\n",
      "[I 2023-11-01 07:11:43,545] Trial 6 finished with value: 0.23143094944886752 and parameters: {'iterations': 250, 'learning_rate': 0.13, 'depth': 13}. Best is trial 0 with value: 0.2213735913904342.\n",
      "[I 2023-11-01 07:11:48,812] Trial 7 finished with value: 0.3086547825096226 and parameters: {'iterations': 175, 'learning_rate': 0.04, 'depth': 8}. Best is trial 0 with value: 0.2213735913904342.\n",
      "[I 2023-11-01 07:11:59,655] Trial 8 finished with value: 0.27195216293192426 and parameters: {'iterations': 50, 'learning_rate': 0.16, 'depth': 14}. Best is trial 0 with value: 0.2213735913904342.\n",
      "[I 2023-11-01 07:12:28,741] Trial 9 finished with value: 0.24586123330122372 and parameters: {'iterations': 200, 'learning_rate': 0.7, 'depth': 11}. Best is trial 0 with value: 0.2213735913904342.\n"
     ]
    },
    {
     "name": "stdout",
     "output_type": "stream",
     "text": [
      "Наилучшие значения гиперпараметров {'iterations': 300, 'learning_rate': 0.13, 'depth': 15}\n",
      "MAPE на тестовом наборе: 0.22\n"
     ]
    }
   ],
   "source": [
    "def optuna_rf(trial):\n",
    "  # задаем пространства поиска гиперпараметров\n",
    "  iterations = trial.suggest_int('iterations', 50, 300, 25)\n",
    "  learning_rate = trial.suggest_float('learning_rate', 0.01, 0.7, step=0.03)\n",
    "  depth = trial.suggest_int('depth', 5, 15, 1)\n",
    "  # создаем и обучаем модель\n",
    "  model = CatBoostRegressor(iterations=iterations, \n",
    "                            learning_rate=learning_rate, \n",
    "                            depth=depth, \n",
    "                            random_state=42, \n",
    "                            silent=True)\n",
    "  model.fit(X_train_cat_log, np.log(y_train_cat_log), cat_features=cat_list)\n",
    "  score = metrics.mean_absolute_percentage_error(y_test_cat_log, np.exp(model.predict(X_test_cat_log)))\n",
    "  return score\n",
    "\n",
    "# cоздаем объект исследования и ищем лучшую комбинацию гиперпараметров\n",
    "study_cb = optuna.create_study(study_name=\"CatBoostRegressor\", direction=\"minimize\")\n",
    "study_cb.optimize(optuna_rf, n_trials=10)\n",
    "\n",
    "# выводим результаты на обучающей выборке\n",
    "print(\"Наилучшие значения гиперпараметров {}\".format(study_cb.best_params))\n",
    "print(\"MAPE на тестовом наборе: {:.2f}\".format(study_cb.best_value))"
   ]
  },
  {
   "cell_type": "markdown",
   "metadata": {
    "cellId": "3g3pv7kwqsari9v1mf6x6",
    "execution_id": "e1d1a2e2-643f-496b-ab2e-27abb3e9f460"
   },
   "source": [
    "Видим, что на логарифмированных признаках, алгоритм работает лучше. Попробуем улучшить результат, подобрав оптимальные гиперпараметры для второго набора данных."
   ]
  },
  {
   "cell_type": "code",
   "execution_count": 191,
   "metadata": {
    "cellId": "7ys47i89el4s1m7d0s46u"
   },
   "outputs": [
    {
     "name": "stderr",
     "output_type": "stream",
     "text": [
      "[I 2023-11-01 07:12:32,864] Trial 10 finished with value: 0.2782552898136485 and parameters: {'iterations': 100, 'learning_rate': 0.25, 'depth': 8}. Best is trial 0 with value: 0.2213735913904342.\n",
      "[I 2023-11-01 07:13:13,704] Trial 11 finished with value: 0.3216022714284769 and parameters: {'iterations': 250, 'learning_rate': 0.01, 'depth': 12}. Best is trial 0 with value: 0.2213735913904342.\n",
      "[I 2023-11-01 07:14:10,809] Trial 12 finished with value: 0.23143094944886752 and parameters: {'iterations': 250, 'learning_rate': 0.13, 'depth': 13}. Best is trial 0 with value: 0.2213735913904342.\n",
      "[I 2023-11-01 07:15:21,446] Trial 13 finished with value: 0.22447360916280149 and parameters: {'iterations': 300, 'learning_rate': 0.33999999999999997, 'depth': 13}. Best is trial 0 with value: 0.2213735913904342.\n",
      "[I 2023-11-01 07:15:48,194] Trial 14 finished with value: 0.23529878219645803 and parameters: {'iterations': 300, 'learning_rate': 0.31, 'depth': 9}. Best is trial 0 with value: 0.2213735913904342.\n",
      "[I 2023-11-01 07:16:03,177] Trial 15 finished with value: 0.2479935347183221 and parameters: {'iterations': 125, 'learning_rate': 0.37, 'depth': 13}. Best is trial 0 with value: 0.2213735913904342.\n",
      "[I 2023-11-01 07:18:48,748] Trial 16 finished with value: 0.22403765497814554 and parameters: {'iterations': 275, 'learning_rate': 0.31, 'depth': 15}. Best is trial 0 with value: 0.2213735913904342.\n",
      "[I 2023-11-01 07:18:58,638] Trial 17 finished with value: 0.2719970231631293 and parameters: {'iterations': 225, 'learning_rate': 0.22, 'depth': 5}. Best is trial 0 with value: 0.2213735913904342.\n",
      "[I 2023-11-01 07:21:43,419] Trial 18 finished with value: 0.2410192648648432 and parameters: {'iterations': 275, 'learning_rate': 0.58, 'depth': 15}. Best is trial 0 with value: 0.2213735913904342.\n",
      "[I 2023-11-01 07:21:49,405] Trial 19 finished with value: 0.2887180676419372 and parameters: {'iterations': 125, 'learning_rate': 0.06999999999999999, 'depth': 10}. Best is trial 0 with value: 0.2213735913904342.\n",
      "[I 2023-11-01 07:23:28,179] Trial 20 finished with value: 0.22312653756213505 and parameters: {'iterations': 275, 'learning_rate': 0.28, 'depth': 14}. Best is trial 0 with value: 0.2213735913904342.\n",
      "[I 2023-11-01 07:25:07,183] Trial 21 finished with value: 0.222879145198355 and parameters: {'iterations': 275, 'learning_rate': 0.31, 'depth': 14}. Best is trial 0 with value: 0.2213735913904342.\n",
      "[I 2023-11-01 07:26:45,666] Trial 22 finished with value: 0.22147096435750216 and parameters: {'iterations': 275, 'learning_rate': 0.25, 'depth': 14}. Best is trial 0 with value: 0.2213735913904342.\n",
      "[I 2023-11-01 07:27:24,562] Trial 23 finished with value: 0.23173549141744823 and parameters: {'iterations': 225, 'learning_rate': 0.19, 'depth': 12}. Best is trial 0 with value: 0.2213735913904342.\n",
      "[I 2023-11-01 07:29:04,543] Trial 24 finished with value: 0.22823012134541185 and parameters: {'iterations': 275, 'learning_rate': 0.4, 'depth': 14}. Best is trial 0 with value: 0.2213735913904342.\n",
      "[I 2023-11-01 07:29:42,700] Trial 25 finished with value: 0.25141321560006546 and parameters: {'iterations': 225, 'learning_rate': 0.06999999999999999, 'depth': 12}. Best is trial 0 with value: 0.2213735913904342.\n",
      "[I 2023-11-01 07:31:19,838] Trial 26 finished with value: 0.22591236544781296 and parameters: {'iterations': 275, 'learning_rate': 0.13, 'depth': 14}. Best is trial 0 with value: 0.2213735913904342.\n",
      "[I 2023-11-01 07:32:03,196] Trial 27 finished with value: 0.2280105470579788 and parameters: {'iterations': 300, 'learning_rate': 0.25, 'depth': 11}. Best is trial 0 with value: 0.2213735913904342.\n",
      "[I 2023-11-01 07:34:01,145] Trial 28 finished with value: 0.23182119683894273 and parameters: {'iterations': 200, 'learning_rate': 0.43, 'depth': 15}. Best is trial 0 with value: 0.2213735913904342.\n",
      "[I 2023-11-01 07:34:08,386] Trial 29 finished with value: 0.25638809038242455 and parameters: {'iterations': 150, 'learning_rate': 0.49, 'depth': 10}. Best is trial 0 with value: 0.2213735913904342.\n",
      "[I 2023-11-01 07:34:12,588] Trial 30 finished with value: 0.2659008970602618 and parameters: {'iterations': 50, 'learning_rate': 0.37, 'depth': 12}. Best is trial 0 with value: 0.2213735913904342.\n",
      "[I 2023-11-01 07:35:51,051] Trial 31 finished with value: 0.22312653756213505 and parameters: {'iterations': 275, 'learning_rate': 0.28, 'depth': 14}. Best is trial 0 with value: 0.2213735913904342.\n",
      "[I 2023-11-01 07:37:20,154] Trial 32 finished with value: 0.22415163199411123 and parameters: {'iterations': 250, 'learning_rate': 0.28, 'depth': 14}. Best is trial 0 with value: 0.2213735913904342.\n",
      "[I 2023-11-01 07:38:23,924] Trial 33 finished with value: 0.22535649275542138 and parameters: {'iterations': 275, 'learning_rate': 0.19, 'depth': 13}. Best is trial 0 with value: 0.2213735913904342.\n",
      "[I 2023-11-01 07:41:20,994] Trial 34 finished with value: 0.22477737423470764 and parameters: {'iterations': 300, 'learning_rate': 0.09999999999999999, 'depth': 15}. Best is trial 0 with value: 0.2213735913904342.\n",
      "[I 2023-11-01 07:43:34,083] Trial 35 finished with value: 0.2220880396586357 and parameters: {'iterations': 225, 'learning_rate': 0.19, 'depth': 15}. Best is trial 0 with value: 0.2213735913904342.\n",
      "[I 2023-11-01 07:45:46,589] Trial 36 finished with value: 0.2220880396586357 and parameters: {'iterations': 225, 'learning_rate': 0.19, 'depth': 15}. Best is trial 0 with value: 0.2213735913904342.\n",
      "[I 2023-11-01 07:47:58,620] Trial 37 finished with value: 0.2220880396586357 and parameters: {'iterations': 225, 'learning_rate': 0.19, 'depth': 15}. Best is trial 0 with value: 0.2213735913904342.\n",
      "[I 2023-11-01 07:49:08,113] Trial 38 finished with value: 0.2415809738514093 and parameters: {'iterations': 175, 'learning_rate': 0.16, 'depth': 15}. Best is trial 0 with value: 0.2213735913904342.\n",
      "[I 2023-11-01 07:51:00,140] Trial 39 finished with value: 0.3229913742165261 and parameters: {'iterations': 200, 'learning_rate': 0.01, 'depth': 15}. Best is trial 0 with value: 0.2213735913904342.\n"
     ]
    },
    {
     "name": "stdout",
     "output_type": "stream",
     "text": [
      "Наилучшие значения гиперпараметров {'iterations': 300, 'learning_rate': 0.13, 'depth': 15}\n",
      "MAPE на тестовом наборе: 0.22\n"
     ]
    }
   ],
   "source": [
    "# Выполним еще 10 итераций подбора гиперпараметров\n",
    "study_cb.optimize(optuna_rf, n_trials=30)\n",
    "\n",
    "print(\"Наилучшие значения гиперпараметров {}\".format(study_cb.best_params))\n",
    "print(\"MAPE на тестовом наборе: {:.2f}\".format(study_cb.best_value))"
   ]
  },
  {
   "cell_type": "markdown",
   "metadata": {
    "cellId": "2kw0c4cnxmts0oenoae9is",
    "execution_id": "8c39789e-7b7f-4334-8639-a676761f0d57"
   },
   "source": [
    "Построим модель, используя подобранные параметры"
   ]
  },
  {
   "cell_type": "code",
   "execution_count": 192,
   "metadata": {
    "cellId": "whcv92oypyrkjn91due75g"
   },
   "outputs": [
    {
     "name": "stdout",
     "output_type": "stream",
     "text": [
      "Train MAE: 96443.378\n",
      "Train MAPE: 16.730\n",
      "Train R^2: 0.879\n",
      "Test MAE: 126964.229\n",
      "Test MAPE: 22.137\n",
      "Test R^2: 0.779\n"
     ]
    }
   ],
   "source": [
    "# ЛОГАРИФМИРУЕМ ЧИСЛОВЫЕ И ЦЕЛЕВОЙ ПРИЗНАКИ\n",
    "\n",
    "#Создаем объект класса CatBoost и обучаем модель\n",
    "cb_log_model = CatBoostRegressor(iterations=300, learning_rate=0.13, depth=15, random_seed=42, silent=True)\n",
    "cb_log_model.fit(X_train_cat_log, np.log(y_train_cat_log), cat_features=cat_list)\n",
    "\n",
    "# Формируем предсказание\n",
    "cb_log_train_pred = np.exp(cb_log_model.predict(X_train_cat_log))\n",
    "cb_log_test_pred = np.exp(cb_log_model.predict(X_test_cat_log))\n",
    "\n",
    "print_metrics(y_train_cat_log, cb_log_train_pred, y_test_cat_log, cb_log_test_pred)"
   ]
  },
  {
   "cell_type": "markdown",
   "metadata": {
    "cellId": "8e45hfo37o6xwtfl4wq34"
   },
   "source": [
    "Результат по MAPE немного улучшился, но и появилось небольшое переобучение модели. Попробуем построить еще несколько моделей, с параметрами, которые optuna нашла для нас."
   ]
  },
  {
   "cell_type": "code",
   "execution_count": 193,
   "metadata": {
    "cellId": "36j00k65kiw5syuvyr7p9v"
   },
   "outputs": [
    {
     "name": "stdout",
     "output_type": "stream",
     "text": [
      "Train MAE: 94326.909\n",
      "Train MAPE: 16.303\n",
      "Train R^2: 0.885\n",
      "Test MAE: 127095.494\n",
      "Test MAPE: 22.209\n",
      "Test R^2: 0.780\n"
     ]
    }
   ],
   "source": [
    "# ЛОГАРИФМИРУЕМ ЧИСЛОВЫЕ И ЦЕЛЕВОЙ ПРИЗНАКИ\n",
    "\n",
    "#Создаем объект класса CatBoost и обучаем модель\n",
    "cb_log_model = CatBoostRegressor(iterations=225, learning_rate=0.19, depth=15, random_seed=42, silent=True)\n",
    "cb_log_model.fit(X_train_cat_log, np.log(y_train_cat_log), cat_features=cat_list)\n",
    "\n",
    "# Формируем предсказание\n",
    "cb_log_train_pred = np.exp(cb_log_model.predict(X_train_cat_log))\n",
    "cb_log_test_pred = np.exp(cb_log_model.predict(X_test_cat_log))\n",
    "\n",
    "print_metrics(y_train_cat_log, cb_log_train_pred, y_test_cat_log, cb_log_test_pred)\n"
   ]
  },
  {
   "cell_type": "code",
   "execution_count": 194,
   "metadata": {
    "cellId": "z3v1phrc3b9il1p30srn8j"
   },
   "outputs": [
    {
     "name": "stdout",
     "output_type": "stream",
     "text": [
      "Train MAE: 90227.270\n",
      "Train MAPE: 15.639\n",
      "Train R^2: 0.897\n",
      "Test MAE: 127558.366\n",
      "Test MAPE: 22.313\n",
      "Test R^2: 0.781\n"
     ]
    }
   ],
   "source": [
    "# ЛОГАРИФМИРУЕМ ЧИСЛОВЫЕ И ЦЕЛЕВОЙ ПРИЗНАКИ\n",
    "\n",
    "#Создаем объект класса CatBoost и обучаем модель\n",
    "cb_log_model = CatBoostRegressor(iterations=275, learning_rate=0.28, depth=14, random_seed=42, silent=True)\n",
    "cb_log_model.fit(X_train_cat_log, np.log(y_train_cat_log), cat_features=cat_list)\n",
    "\n",
    "# Формируем предсказание\n",
    "cb_log_train_pred = np.exp(cb_log_model.predict(X_train_cat_log))\n",
    "cb_log_test_pred = np.exp(cb_log_model.predict(X_test_cat_log))\n",
    "\n",
    "print_metrics(y_train_cat_log, cb_log_train_pred, y_test_cat_log, cb_log_test_pred)"
   ]
  },
  {
   "cell_type": "code",
   "execution_count": 195,
   "metadata": {
    "cellId": "r80h2ajgw9qb4hyundkb1i"
   },
   "outputs": [
    {
     "name": "stdout",
     "output_type": "stream",
     "text": [
      "Train MAE: 113090.075\n",
      "Train MAPE: 19.769\n",
      "Train R^2: 0.843\n",
      "Test MAE: 129800.912\n",
      "Test MAPE: 22.801\n",
      "Test R^2: 0.782\n"
     ]
    }
   ],
   "source": [
    "# ЛОГАРИФМИРУЕМ ЧИСЛОВЫЕ И ЦЕЛЕВОЙ ПРИЗНАКИ\n",
    "\n",
    "#Создаем объект класса CatBoost и обучаем модель\n",
    "cb_log_model = CatBoostRegressor(iterations=300, learning_rate=0.25, depth=11, random_seed=42, silent=True)\n",
    "cb_log_model.fit(X_train_cat_log, np.log(y_train_cat_log), cat_features=cat_list)\n",
    "\n",
    "# Формируем предсказание\n",
    "cb_log_train_pred = np.exp(cb_log_model.predict(X_train_cat_log))\n",
    "cb_log_test_pred = np.exp(cb_log_model.predict(X_test_cat_log))\n",
    "\n",
    "print_metrics(y_train_cat_log, cb_log_train_pred, y_test_cat_log, cb_log_test_pred)"
   ]
  },
  {
   "cell_type": "markdown",
   "metadata": {
    "cellId": "yp23zmqxw8qgpsk519jeqo",
    "execution_id": "fb981707-ffdb-4263-b1d4-5642e59ad06f"
   },
   "source": [
    "Видим, что результаты немного отличаются по метрикам, но в целом картина понятна. Посмотрим на вклад каждого из гиперпараметров при построении модели."
   ]
  },
  {
   "cell_type": "code",
   "execution_count": 197,
   "metadata": {
    "cellId": "0ac21y5yn7pf44ytcger1gt"
   },
   "outputs": [
    {
     "data": {
      "application/vnd.plotly.v1+json": {
       "config": {
        "plotlyServerURL": "https://plot.ly"
       },
       "data": [
        {
         "cliponaxis": false,
         "hovertemplate": [
          "depth (IntDistribution): 0.22335902643100666<extra></extra>",
          "iterations (IntDistribution): 0.2466118072087332<extra></extra>",
          "learning_rate (FloatDistribution): 0.5300291663602601<extra></extra>"
         ],
         "name": "MAPE",
         "orientation": "h",
         "text": [
          "0.22",
          "0.25",
          "0.53"
         ],
         "textposition": "outside",
         "type": "bar",
         "x": [
          0.22335902643100666,
          0.2466118072087332,
          0.5300291663602601
         ],
         "y": [
          "depth",
          "iterations",
          "learning_rate"
         ]
        }
       ],
       "layout": {
        "autosize": true,
        "template": {
         "data": {
          "bar": [
           {
            "error_x": {
             "color": "#2a3f5f"
            },
            "error_y": {
             "color": "#2a3f5f"
            },
            "marker": {
             "line": {
              "color": "#E5ECF6",
              "width": 0.5
             },
             "pattern": {
              "fillmode": "overlay",
              "size": 10,
              "solidity": 0.2
             }
            },
            "type": "bar"
           }
          ],
          "barpolar": [
           {
            "marker": {
             "line": {
              "color": "#E5ECF6",
              "width": 0.5
             },
             "pattern": {
              "fillmode": "overlay",
              "size": 10,
              "solidity": 0.2
             }
            },
            "type": "barpolar"
           }
          ],
          "carpet": [
           {
            "aaxis": {
             "endlinecolor": "#2a3f5f",
             "gridcolor": "white",
             "linecolor": "white",
             "minorgridcolor": "white",
             "startlinecolor": "#2a3f5f"
            },
            "baxis": {
             "endlinecolor": "#2a3f5f",
             "gridcolor": "white",
             "linecolor": "white",
             "minorgridcolor": "white",
             "startlinecolor": "#2a3f5f"
            },
            "type": "carpet"
           }
          ],
          "choropleth": [
           {
            "colorbar": {
             "outlinewidth": 0,
             "ticks": ""
            },
            "type": "choropleth"
           }
          ],
          "contour": [
           {
            "colorbar": {
             "outlinewidth": 0,
             "ticks": ""
            },
            "colorscale": [
             [
              0,
              "#0d0887"
             ],
             [
              0.1111111111111111,
              "#46039f"
             ],
             [
              0.2222222222222222,
              "#7201a8"
             ],
             [
              0.3333333333333333,
              "#9c179e"
             ],
             [
              0.4444444444444444,
              "#bd3786"
             ],
             [
              0.5555555555555556,
              "#d8576b"
             ],
             [
              0.6666666666666666,
              "#ed7953"
             ],
             [
              0.7777777777777778,
              "#fb9f3a"
             ],
             [
              0.8888888888888888,
              "#fdca26"
             ],
             [
              1,
              "#f0f921"
             ]
            ],
            "type": "contour"
           }
          ],
          "contourcarpet": [
           {
            "colorbar": {
             "outlinewidth": 0,
             "ticks": ""
            },
            "type": "contourcarpet"
           }
          ],
          "heatmap": [
           {
            "colorbar": {
             "outlinewidth": 0,
             "ticks": ""
            },
            "colorscale": [
             [
              0,
              "#0d0887"
             ],
             [
              0.1111111111111111,
              "#46039f"
             ],
             [
              0.2222222222222222,
              "#7201a8"
             ],
             [
              0.3333333333333333,
              "#9c179e"
             ],
             [
              0.4444444444444444,
              "#bd3786"
             ],
             [
              0.5555555555555556,
              "#d8576b"
             ],
             [
              0.6666666666666666,
              "#ed7953"
             ],
             [
              0.7777777777777778,
              "#fb9f3a"
             ],
             [
              0.8888888888888888,
              "#fdca26"
             ],
             [
              1,
              "#f0f921"
             ]
            ],
            "type": "heatmap"
           }
          ],
          "heatmapgl": [
           {
            "colorbar": {
             "outlinewidth": 0,
             "ticks": ""
            },
            "colorscale": [
             [
              0,
              "#0d0887"
             ],
             [
              0.1111111111111111,
              "#46039f"
             ],
             [
              0.2222222222222222,
              "#7201a8"
             ],
             [
              0.3333333333333333,
              "#9c179e"
             ],
             [
              0.4444444444444444,
              "#bd3786"
             ],
             [
              0.5555555555555556,
              "#d8576b"
             ],
             [
              0.6666666666666666,
              "#ed7953"
             ],
             [
              0.7777777777777778,
              "#fb9f3a"
             ],
             [
              0.8888888888888888,
              "#fdca26"
             ],
             [
              1,
              "#f0f921"
             ]
            ],
            "type": "heatmapgl"
           }
          ],
          "histogram": [
           {
            "marker": {
             "pattern": {
              "fillmode": "overlay",
              "size": 10,
              "solidity": 0.2
             }
            },
            "type": "histogram"
           }
          ],
          "histogram2d": [
           {
            "colorbar": {
             "outlinewidth": 0,
             "ticks": ""
            },
            "colorscale": [
             [
              0,
              "#0d0887"
             ],
             [
              0.1111111111111111,
              "#46039f"
             ],
             [
              0.2222222222222222,
              "#7201a8"
             ],
             [
              0.3333333333333333,
              "#9c179e"
             ],
             [
              0.4444444444444444,
              "#bd3786"
             ],
             [
              0.5555555555555556,
              "#d8576b"
             ],
             [
              0.6666666666666666,
              "#ed7953"
             ],
             [
              0.7777777777777778,
              "#fb9f3a"
             ],
             [
              0.8888888888888888,
              "#fdca26"
             ],
             [
              1,
              "#f0f921"
             ]
            ],
            "type": "histogram2d"
           }
          ],
          "histogram2dcontour": [
           {
            "colorbar": {
             "outlinewidth": 0,
             "ticks": ""
            },
            "colorscale": [
             [
              0,
              "#0d0887"
             ],
             [
              0.1111111111111111,
              "#46039f"
             ],
             [
              0.2222222222222222,
              "#7201a8"
             ],
             [
              0.3333333333333333,
              "#9c179e"
             ],
             [
              0.4444444444444444,
              "#bd3786"
             ],
             [
              0.5555555555555556,
              "#d8576b"
             ],
             [
              0.6666666666666666,
              "#ed7953"
             ],
             [
              0.7777777777777778,
              "#fb9f3a"
             ],
             [
              0.8888888888888888,
              "#fdca26"
             ],
             [
              1,
              "#f0f921"
             ]
            ],
            "type": "histogram2dcontour"
           }
          ],
          "mesh3d": [
           {
            "colorbar": {
             "outlinewidth": 0,
             "ticks": ""
            },
            "type": "mesh3d"
           }
          ],
          "parcoords": [
           {
            "line": {
             "colorbar": {
              "outlinewidth": 0,
              "ticks": ""
             }
            },
            "type": "parcoords"
           }
          ],
          "pie": [
           {
            "automargin": true,
            "type": "pie"
           }
          ],
          "scatter": [
           {
            "fillpattern": {
             "fillmode": "overlay",
             "size": 10,
             "solidity": 0.2
            },
            "type": "scatter"
           }
          ],
          "scatter3d": [
           {
            "line": {
             "colorbar": {
              "outlinewidth": 0,
              "ticks": ""
             }
            },
            "marker": {
             "colorbar": {
              "outlinewidth": 0,
              "ticks": ""
             }
            },
            "type": "scatter3d"
           }
          ],
          "scattercarpet": [
           {
            "marker": {
             "colorbar": {
              "outlinewidth": 0,
              "ticks": ""
             }
            },
            "type": "scattercarpet"
           }
          ],
          "scattergeo": [
           {
            "marker": {
             "colorbar": {
              "outlinewidth": 0,
              "ticks": ""
             }
            },
            "type": "scattergeo"
           }
          ],
          "scattergl": [
           {
            "marker": {
             "colorbar": {
              "outlinewidth": 0,
              "ticks": ""
             }
            },
            "type": "scattergl"
           }
          ],
          "scattermapbox": [
           {
            "marker": {
             "colorbar": {
              "outlinewidth": 0,
              "ticks": ""
             }
            },
            "type": "scattermapbox"
           }
          ],
          "scatterpolar": [
           {
            "marker": {
             "colorbar": {
              "outlinewidth": 0,
              "ticks": ""
             }
            },
            "type": "scatterpolar"
           }
          ],
          "scatterpolargl": [
           {
            "marker": {
             "colorbar": {
              "outlinewidth": 0,
              "ticks": ""
             }
            },
            "type": "scatterpolargl"
           }
          ],
          "scatterternary": [
           {
            "marker": {
             "colorbar": {
              "outlinewidth": 0,
              "ticks": ""
             }
            },
            "type": "scatterternary"
           }
          ],
          "surface": [
           {
            "colorbar": {
             "outlinewidth": 0,
             "ticks": ""
            },
            "colorscale": [
             [
              0,
              "#0d0887"
             ],
             [
              0.1111111111111111,
              "#46039f"
             ],
             [
              0.2222222222222222,
              "#7201a8"
             ],
             [
              0.3333333333333333,
              "#9c179e"
             ],
             [
              0.4444444444444444,
              "#bd3786"
             ],
             [
              0.5555555555555556,
              "#d8576b"
             ],
             [
              0.6666666666666666,
              "#ed7953"
             ],
             [
              0.7777777777777778,
              "#fb9f3a"
             ],
             [
              0.8888888888888888,
              "#fdca26"
             ],
             [
              1,
              "#f0f921"
             ]
            ],
            "type": "surface"
           }
          ],
          "table": [
           {
            "cells": {
             "fill": {
              "color": "#EBF0F8"
             },
             "line": {
              "color": "white"
             }
            },
            "header": {
             "fill": {
              "color": "#C8D4E3"
             },
             "line": {
              "color": "white"
             }
            },
            "type": "table"
           }
          ]
         },
         "layout": {
          "annotationdefaults": {
           "arrowcolor": "#2a3f5f",
           "arrowhead": 0,
           "arrowwidth": 1
          },
          "autotypenumbers": "strict",
          "coloraxis": {
           "colorbar": {
            "outlinewidth": 0,
            "ticks": ""
           }
          },
          "colorscale": {
           "diverging": [
            [
             0,
             "#8e0152"
            ],
            [
             0.1,
             "#c51b7d"
            ],
            [
             0.2,
             "#de77ae"
            ],
            [
             0.3,
             "#f1b6da"
            ],
            [
             0.4,
             "#fde0ef"
            ],
            [
             0.5,
             "#f7f7f7"
            ],
            [
             0.6,
             "#e6f5d0"
            ],
            [
             0.7,
             "#b8e186"
            ],
            [
             0.8,
             "#7fbc41"
            ],
            [
             0.9,
             "#4d9221"
            ],
            [
             1,
             "#276419"
            ]
           ],
           "sequential": [
            [
             0,
             "#0d0887"
            ],
            [
             0.1111111111111111,
             "#46039f"
            ],
            [
             0.2222222222222222,
             "#7201a8"
            ],
            [
             0.3333333333333333,
             "#9c179e"
            ],
            [
             0.4444444444444444,
             "#bd3786"
            ],
            [
             0.5555555555555556,
             "#d8576b"
            ],
            [
             0.6666666666666666,
             "#ed7953"
            ],
            [
             0.7777777777777778,
             "#fb9f3a"
            ],
            [
             0.8888888888888888,
             "#fdca26"
            ],
            [
             1,
             "#f0f921"
            ]
           ],
           "sequentialminus": [
            [
             0,
             "#0d0887"
            ],
            [
             0.1111111111111111,
             "#46039f"
            ],
            [
             0.2222222222222222,
             "#7201a8"
            ],
            [
             0.3333333333333333,
             "#9c179e"
            ],
            [
             0.4444444444444444,
             "#bd3786"
            ],
            [
             0.5555555555555556,
             "#d8576b"
            ],
            [
             0.6666666666666666,
             "#ed7953"
            ],
            [
             0.7777777777777778,
             "#fb9f3a"
            ],
            [
             0.8888888888888888,
             "#fdca26"
            ],
            [
             1,
             "#f0f921"
            ]
           ]
          },
          "colorway": [
           "#636efa",
           "#EF553B",
           "#00cc96",
           "#ab63fa",
           "#FFA15A",
           "#19d3f3",
           "#FF6692",
           "#B6E880",
           "#FF97FF",
           "#FECB52"
          ],
          "font": {
           "color": "#2a3f5f"
          },
          "geo": {
           "bgcolor": "white",
           "lakecolor": "white",
           "landcolor": "#E5ECF6",
           "showlakes": true,
           "showland": true,
           "subunitcolor": "white"
          },
          "hoverlabel": {
           "align": "left"
          },
          "hovermode": "closest",
          "mapbox": {
           "style": "light"
          },
          "paper_bgcolor": "white",
          "plot_bgcolor": "#E5ECF6",
          "polar": {
           "angularaxis": {
            "gridcolor": "white",
            "linecolor": "white",
            "ticks": ""
           },
           "bgcolor": "#E5ECF6",
           "radialaxis": {
            "gridcolor": "white",
            "linecolor": "white",
            "ticks": ""
           }
          },
          "scene": {
           "xaxis": {
            "backgroundcolor": "#E5ECF6",
            "gridcolor": "white",
            "gridwidth": 2,
            "linecolor": "white",
            "showbackground": true,
            "ticks": "",
            "zerolinecolor": "white"
           },
           "yaxis": {
            "backgroundcolor": "#E5ECF6",
            "gridcolor": "white",
            "gridwidth": 2,
            "linecolor": "white",
            "showbackground": true,
            "ticks": "",
            "zerolinecolor": "white"
           },
           "zaxis": {
            "backgroundcolor": "#E5ECF6",
            "gridcolor": "white",
            "gridwidth": 2,
            "linecolor": "white",
            "showbackground": true,
            "ticks": "",
            "zerolinecolor": "white"
           }
          },
          "shapedefaults": {
           "line": {
            "color": "#2a3f5f"
           }
          },
          "ternary": {
           "aaxis": {
            "gridcolor": "white",
            "linecolor": "white",
            "ticks": ""
           },
           "baxis": {
            "gridcolor": "white",
            "linecolor": "white",
            "ticks": ""
           },
           "bgcolor": "#E5ECF6",
           "caxis": {
            "gridcolor": "white",
            "linecolor": "white",
            "ticks": ""
           }
          },
          "title": {
           "x": 0.05
          },
          "xaxis": {
           "automargin": true,
           "gridcolor": "white",
           "linecolor": "white",
           "ticks": "",
           "title": {
            "standoff": 15
           },
           "zerolinecolor": "white",
           "zerolinewidth": 2
          },
          "yaxis": {
           "automargin": true,
           "gridcolor": "white",
           "linecolor": "white",
           "ticks": "",
           "title": {
            "standoff": 15
           },
           "zerolinecolor": "white",
           "zerolinewidth": 2
          }
         }
        },
        "title": {
         "text": "Hyperparameter Importances"
        },
        "xaxis": {
         "autorange": true,
         "range": [
          0,
          0.557925438273958
         ],
         "title": {
          "text": "Hyperparameter Importance"
         },
         "type": "linear"
        },
        "yaxis": {
         "autorange": true,
         "range": [
          -0.5,
          2.5
         ],
         "title": {
          "text": "Hyperparameter"
         },
         "type": "category"
        }
       }
      },
      "image/png": "[encoded data removed]",
      "text/html": [
       "<div>                            <div id=\"fa5fabac-de6c-454b-b3d2-26feaac80749\" class=\"plotly-graph-div\" style=\"height:525px; width:100%;\"></div>            <script type=\"text/javascript\">                require([\"plotly\"], function(Plotly) {                    window.PLOTLYENV=window.PLOTLYENV || {};                                    if (document.getElementById(\"fa5fabac-de6c-454b-b3d2-26feaac80749\")) {                    Plotly.newPlot(                        \"fa5fabac-de6c-454b-b3d2-26feaac80749\",                        [{\"cliponaxis\":false,\"hovertemplate\":[\"depth (IntDistribution): 0.22335902643100666<extra></extra>\",\"iterations (IntDistribution): 0.2466118072087332<extra></extra>\",\"learning_rate (FloatDistribution): 0.5300291663602601<extra></extra>\"],\"name\":\"MAPE\",\"orientation\":\"h\",\"text\":[\"0.22\",\"0.25\",\"0.53\"],\"textposition\":\"outside\",\"x\":[0.22335902643100666,0.2466118072087332,0.5300291663602601],\"y\":[\"depth\",\"iterations\",\"learning_rate\"],\"type\":\"bar\"}],                        {\"title\":{\"text\":\"Hyperparameter Importances\"},\"xaxis\":{\"title\":{\"text\":\"Hyperparameter Importance\"}},\"yaxis\":{\"title\":{\"text\":\"Hyperparameter\"}},\"template\":{\"data\":{\"histogram2dcontour\":[{\"type\":\"histogram2dcontour\",\"colorbar\":{\"outlinewidth\":0,\"ticks\":\"\"},\"colorscale\":[[0.0,\"#0d0887\"],[0.1111111111111111,\"#46039f\"],[0.2222222222222222,\"#7201a8\"],[0.3333333333333333,\"#9c179e\"],[0.4444444444444444,\"#bd3786\"],[0.5555555555555556,\"#d8576b\"],[0.6666666666666666,\"#ed7953\"],[0.7777777777777778,\"#fb9f3a\"],[0.8888888888888888,\"#fdca26\"],[1.0,\"#f0f921\"]]}],\"choropleth\":[{\"type\":\"choropleth\",\"colorbar\":{\"outlinewidth\":0,\"ticks\":\"\"}}],\"histogram2d\":[{\"type\":\"histogram2d\",\"colorbar\":{\"outlinewidth\":0,\"ticks\":\"\"},\"colorscale\":[[0.0,\"#0d0887\"],[0.1111111111111111,\"#46039f\"],[0.2222222222222222,\"#7201a8\"],[0.3333333333333333,\"#9c179e\"],[0.4444444444444444,\"#bd3786\"],[0.5555555555555556,\"#d8576b\"],[0.6666666666666666,\"#ed7953\"],[0.7777777777777778,\"#fb9f3a\"],[0.8888888888888888,\"#fdca26\"],[1.0,\"#f0f921\"]]}],\"heatmap\":[{\"type\":\"heatmap\",\"colorbar\":{\"outlinewidth\":0,\"ticks\":\"\"},\"colorscale\":[[0.0,\"#0d0887\"],[0.1111111111111111,\"#46039f\"],[0.2222222222222222,\"#7201a8\"],[0.3333333333333333,\"#9c179e\"],[0.4444444444444444,\"#bd3786\"],[0.5555555555555556,\"#d8576b\"],[0.6666666666666666,\"#ed7953\"],[0.7777777777777778,\"#fb9f3a\"],[0.8888888888888888,\"#fdca26\"],[1.0,\"#f0f921\"]]}],\"heatmapgl\":[{\"type\":\"heatmapgl\",\"colorbar\":{\"outlinewidth\":0,\"ticks\":\"\"},\"colorscale\":[[0.0,\"#0d0887\"],[0.1111111111111111,\"#46039f\"],[0.2222222222222222,\"#7201a8\"],[0.3333333333333333,\"#9c179e\"],[0.4444444444444444,\"#bd3786\"],[0.5555555555555556,\"#d8576b\"],[0.6666666666666666,\"#ed7953\"],[0.7777777777777778,\"#fb9f3a\"],[0.8888888888888888,\"#fdca26\"],[1.0,\"#f0f921\"]]}],\"contourcarpet\":[{\"type\":\"contourcarpet\",\"colorbar\":{\"outlinewidth\":0,\"ticks\":\"\"}}],\"contour\":[{\"type\":\"contour\",\"colorbar\":{\"outlinewidth\":0,\"ticks\":\"\"},\"colorscale\":[[0.0,\"#0d0887\"],[0.1111111111111111,\"#46039f\"],[0.2222222222222222,\"#7201a8\"],[0.3333333333333333,\"#9c179e\"],[0.4444444444444444,\"#bd3786\"],[0.5555555555555556,\"#d8576b\"],[0.6666666666666666,\"#ed7953\"],[0.7777777777777778,\"#fb9f3a\"],[0.8888888888888888,\"#fdca26\"],[1.0,\"#f0f921\"]]}],\"surface\":[{\"type\":\"surface\",\"colorbar\":{\"outlinewidth\":0,\"ticks\":\"\"},\"colorscale\":[[0.0,\"#0d0887\"],[0.1111111111111111,\"#46039f\"],[0.2222222222222222,\"#7201a8\"],[0.3333333333333333,\"#9c179e\"],[0.4444444444444444,\"#bd3786\"],[0.5555555555555556,\"#d8576b\"],[0.6666666666666666,\"#ed7953\"],[0.7777777777777778,\"#fb9f3a\"],[0.8888888888888888,\"#fdca26\"],[1.0,\"#f0f921\"]]}],\"mesh3d\":[{\"type\":\"mesh3d\",\"colorbar\":{\"outlinewidth\":0,\"ticks\":\"\"}}],\"scatter\":[{\"fillpattern\":{\"fillmode\":\"overlay\",\"size\":10,\"solidity\":0.2},\"type\":\"scatter\"}],\"parcoords\":[{\"type\":\"parcoords\",\"line\":{\"colorbar\":{\"outlinewidth\":0,\"ticks\":\"\"}}}],\"scatterpolargl\":[{\"type\":\"scatterpolargl\",\"marker\":{\"colorbar\":{\"outlinewidth\":0,\"ticks\":\"\"}}}],\"bar\":[{\"error_x\":{\"color\":\"#2a3f5f\"},\"error_y\":{\"color\":\"#2a3f5f\"},\"marker\":{\"line\":{\"color\":\"#E5ECF6\",\"width\":0.5},\"pattern\":{\"fillmode\":\"overlay\",\"size\":10,\"solidity\":0.2}},\"type\":\"bar\"}],\"scattergeo\":[{\"type\":\"scattergeo\",\"marker\":{\"colorbar\":{\"outlinewidth\":0,\"ticks\":\"\"}}}],\"scatterpolar\":[{\"type\":\"scatterpolar\",\"marker\":{\"colorbar\":{\"outlinewidth\":0,\"ticks\":\"\"}}}],\"histogram\":[{\"marker\":{\"pattern\":{\"fillmode\":\"overlay\",\"size\":10,\"solidity\":0.2}},\"type\":\"histogram\"}],\"scattergl\":[{\"type\":\"scattergl\",\"marker\":{\"colorbar\":{\"outlinewidth\":0,\"ticks\":\"\"}}}],\"scatter3d\":[{\"type\":\"scatter3d\",\"line\":{\"colorbar\":{\"outlinewidth\":0,\"ticks\":\"\"}},\"marker\":{\"colorbar\":{\"outlinewidth\":0,\"ticks\":\"\"}}}],\"scattermapbox\":[{\"type\":\"scattermapbox\",\"marker\":{\"colorbar\":{\"outlinewidth\":0,\"ticks\":\"\"}}}],\"scatterternary\":[{\"type\":\"scatterternary\",\"marker\":{\"colorbar\":{\"outlinewidth\":0,\"ticks\":\"\"}}}],\"scattercarpet\":[{\"type\":\"scattercarpet\",\"marker\":{\"colorbar\":{\"outlinewidth\":0,\"ticks\":\"\"}}}],\"carpet\":[{\"aaxis\":{\"endlinecolor\":\"#2a3f5f\",\"gridcolor\":\"white\",\"linecolor\":\"white\",\"minorgridcolor\":\"white\",\"startlinecolor\":\"#2a3f5f\"},\"baxis\":{\"endlinecolor\":\"#2a3f5f\",\"gridcolor\":\"white\",\"linecolor\":\"white\",\"minorgridcolor\":\"white\",\"startlinecolor\":\"#2a3f5f\"},\"type\":\"carpet\"}],\"table\":[{\"cells\":{\"fill\":{\"color\":\"#EBF0F8\"},\"line\":{\"color\":\"white\"}},\"header\":{\"fill\":{\"color\":\"#C8D4E3\"},\"line\":{\"color\":\"white\"}},\"type\":\"table\"}],\"barpolar\":[{\"marker\":{\"line\":{\"color\":\"#E5ECF6\",\"width\":0.5},\"pattern\":{\"fillmode\":\"overlay\",\"size\":10,\"solidity\":0.2}},\"type\":\"barpolar\"}],\"pie\":[{\"automargin\":true,\"type\":\"pie\"}]},\"layout\":{\"autotypenumbers\":\"strict\",\"colorway\":[\"#636efa\",\"#EF553B\",\"#00cc96\",\"#ab63fa\",\"#FFA15A\",\"#19d3f3\",\"#FF6692\",\"#B6E880\",\"#FF97FF\",\"#FECB52\"],\"font\":{\"color\":\"#2a3f5f\"},\"hovermode\":\"closest\",\"hoverlabel\":{\"align\":\"left\"},\"paper_bgcolor\":\"white\",\"plot_bgcolor\":\"#E5ECF6\",\"polar\":{\"bgcolor\":\"#E5ECF6\",\"angularaxis\":{\"gridcolor\":\"white\",\"linecolor\":\"white\",\"ticks\":\"\"},\"radialaxis\":{\"gridcolor\":\"white\",\"linecolor\":\"white\",\"ticks\":\"\"}},\"ternary\":{\"bgcolor\":\"#E5ECF6\",\"aaxis\":{\"gridcolor\":\"white\",\"linecolor\":\"white\",\"ticks\":\"\"},\"baxis\":{\"gridcolor\":\"white\",\"linecolor\":\"white\",\"ticks\":\"\"},\"caxis\":{\"gridcolor\":\"white\",\"linecolor\":\"white\",\"ticks\":\"\"}},\"coloraxis\":{\"colorbar\":{\"outlinewidth\":0,\"ticks\":\"\"}},\"colorscale\":{\"sequential\":[[0.0,\"#0d0887\"],[0.1111111111111111,\"#46039f\"],[0.2222222222222222,\"#7201a8\"],[0.3333333333333333,\"#9c179e\"],[0.4444444444444444,\"#bd3786\"],[0.5555555555555556,\"#d8576b\"],[0.6666666666666666,\"#ed7953\"],[0.7777777777777778,\"#fb9f3a\"],[0.8888888888888888,\"#fdca26\"],[1.0,\"#f0f921\"]],\"sequentialminus\":[[0.0,\"#0d0887\"],[0.1111111111111111,\"#46039f\"],[0.2222222222222222,\"#7201a8\"],[0.3333333333333333,\"#9c179e\"],[0.4444444444444444,\"#bd3786\"],[0.5555555555555556,\"#d8576b\"],[0.6666666666666666,\"#ed7953\"],[0.7777777777777778,\"#fb9f3a\"],[0.8888888888888888,\"#fdca26\"],[1.0,\"#f0f921\"]],\"diverging\":[[0,\"#8e0152\"],[0.1,\"#c51b7d\"],[0.2,\"#de77ae\"],[0.3,\"#f1b6da\"],[0.4,\"#fde0ef\"],[0.5,\"#f7f7f7\"],[0.6,\"#e6f5d0\"],[0.7,\"#b8e186\"],[0.8,\"#7fbc41\"],[0.9,\"#4d9221\"],[1,\"#276419\"]]},\"xaxis\":{\"gridcolor\":\"white\",\"linecolor\":\"white\",\"ticks\":\"\",\"title\":{\"standoff\":15},\"zerolinecolor\":\"white\",\"automargin\":true,\"zerolinewidth\":2},\"yaxis\":{\"gridcolor\":\"white\",\"linecolor\":\"white\",\"ticks\":\"\",\"title\":{\"standoff\":15},\"zerolinecolor\":\"white\",\"automargin\":true,\"zerolinewidth\":2},\"scene\":{\"xaxis\":{\"backgroundcolor\":\"#E5ECF6\",\"gridcolor\":\"white\",\"linecolor\":\"white\",\"showbackground\":true,\"ticks\":\"\",\"zerolinecolor\":\"white\",\"gridwidth\":2},\"yaxis\":{\"backgroundcolor\":\"#E5ECF6\",\"gridcolor\":\"white\",\"linecolor\":\"white\",\"showbackground\":true,\"ticks\":\"\",\"zerolinecolor\":\"white\",\"gridwidth\":2},\"zaxis\":{\"backgroundcolor\":\"#E5ECF6\",\"gridcolor\":\"white\",\"linecolor\":\"white\",\"showbackground\":true,\"ticks\":\"\",\"zerolinecolor\":\"white\",\"gridwidth\":2}},\"shapedefaults\":{\"line\":{\"color\":\"#2a3f5f\"}},\"annotationdefaults\":{\"arrowcolor\":\"#2a3f5f\",\"arrowhead\":0,\"arrowwidth\":1},\"geo\":{\"bgcolor\":\"white\",\"landcolor\":\"#E5ECF6\",\"subunitcolor\":\"white\",\"showland\":true,\"showlakes\":true,\"lakecolor\":\"white\"},\"title\":{\"x\":0.05},\"mapbox\":{\"style\":\"light\"}}}},                        {\"responsive\": true}                    ).then(function(){\n",
       "                            \n",
       "var gd = document.getElementById('fa5fabac-de6c-454b-b3d2-26feaac80749');\n",
       "var x = new MutationObserver(function (mutations, observer) {{\n",
       "        var display = window.getComputedStyle(gd).display;\n",
       "        if (!display || display === 'none') {{\n",
       "            console.log([gd, 'removed!']);\n",
       "            Plotly.purge(gd);\n",
       "            observer.disconnect();\n",
       "        }}\n",
       "}});\n",
       "\n",
       "// Listen for the removal of the full notebook cells\n",
       "var notebookContainer = gd.closest('#notebook-container');\n",
       "if (notebookContainer) {{\n",
       "    x.observe(notebookContainer, {childList: true});\n",
       "}}\n",
       "\n",
       "// Listen for the clearing of the current output cell\n",
       "var outputEl = gd.closest('.output');\n",
       "if (outputEl) {{\n",
       "    x.observe(outputEl, {childList: true});\n",
       "}}\n",
       "\n",
       "                        })                };                });            </script>        </div>"
      ]
     },
     "metadata": {},
     "output_type": "display_data"
    }
   ],
   "source": [
    "# Построим диаграмму важности гиперпараметров\n",
    "optuna.visualization.plot_param_importances(study_cb, target_name='MAPE')"
   ]
  },
  {
   "cell_type": "markdown",
   "metadata": {
    "cellId": "9ombhj9klkhckb20uch0nq",
    "execution_id": "aaddf7df-2d82-4e51-b30a-284a96ec8bc2"
   },
   "source": [
    "Видим, что темп обучения оказывает решающее влияние на результативность моделей. Думаю, что если еще поэксперементировать с этим параметром, то сможем придти к балансу, но метрики на тесте чуть-чуть упадут.\n",
    "\n",
    "На данный момент считаю лучшим результатом последнюю опробованную модель (iterations=300, learning_rate=0.25, depth=11):\n",
    "- Train MAE: 113090.075\n",
    "- Train MAPE: 19.769\n",
    "- Train R^2: 0.843\n",
    "- Test MAE: 129800.912\n",
    "- Test MAPE: 22.801\n",
    "- Test R^2: 0.782\n"
   ]
  },
  {
   "cell_type": "markdown",
   "metadata": {
    "cellId": "emqsfy114p648l7dggr2hb",
    "execution_id": "acbd5f9b-6d67-43ae-b172-aa05288d76c9"
   },
   "source": [
    "## Выводы"
   ]
  },
  {
   "cell_type": "markdown",
   "metadata": {
    "cellId": "45vq83wyk26k3po0ylzkb",
    "execution_id": "0781f583-9cb5-4789-8e8e-77322740a68c"
   },
   "source": [
    "На этапе моделирования было опробовано много моделей для решения поставленной задачи регрессии. В каждую модель подавали два набора данных: 1 - исходные данные, 2 - данные с логарифмированными числовыми непрерывными признаками и целевым признаком. Второй набор данных всех опробованных моделях показал существенно лучший результат.\n",
    "\n",
    "Лучшего результата добились с использованием ансамблевого алгоритма CatBoostRegressor:\n",
    "- минимальное переобучение модели даже на параметрах по умолчанию;\n",
    "- получили самые высокие метрики MAE, MAPE, R2 (с поправкой на то, что другие ансамблевые алгоритмы не довели до баланса метрик на train и test выборках);\n",
    "- алгоритм способен работать с категориальными признаками без необходимости их кодировать, что сокращает этап подготовительной работы;\n",
    "- CatBoost кроме того самый легкий и быстрый из всех опробованных ансамблевых методов, что позволяет быстро получать результат экспериментов и существенно ускоряет работу.\n"
   ]
  },
  {
   "cell_type": "markdown",
   "metadata": {
    "cellId": "jnh7jplecnpcoqdrjdfes",
    "execution_id": "79b056bf-1e9b-4006-95e8-0db1b6558c8c"
   },
   "source": [
    "На этом работу над проектом считаю завершенной. Реализация модели в продакшн и сам веб-сервис для тестирования модели находятся в директории web_app.\n"
   ]
  }
 ],
 "metadata": {
  "language_info": {
   "codemirror_mode": {
    "name": "ipython",
    "version": 3
   },
   "file_extension": ".py",
   "mimetype": "text/x-python",
   "name": "python",
   "nbconvert_exporter": "python",
   "pygments_lexer": "ipython3",
   "version": "3.7.7"
  },
  "notebookId": "8a87d05a-36c0-4c60-b2c2-df41dfbe3b32",
  "notebookPath": "real_estate_forecast_part_2_02.ipynb"
 },
 "nbformat": 4,
 "nbformat_minor": 4
}
