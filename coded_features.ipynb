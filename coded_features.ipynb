{
 "cells": [
  {
   "cell_type": "code",
   "execution_count": 1,
   "metadata": {},
   "outputs": [],
   "source": [
    "# # Sample 1 - 49 features\n",
    "# data_coded = data.copy()\n",
    "\n",
    "# label_list = ['baths', 'stories', 'year_built'] # label encoding\n",
    "# onehot_cat_list = ['status', 'property_add_type'] # dummy / onehot encoding\n",
    "# binary_cat_list = ['zipcode', 'state'] # binary encoding\n",
    "\n",
    "    \n",
    "# label_encoder = LabelEncoder()\n",
    "# for column in label_list:\n",
    "#     data_coded[column] = label_encoder.fit_transform(data_coded[[column]])\n",
    "\n",
    "# for column in binary_cat_list:\n",
    "#     bin_encoder = ce.BinaryEncoder(cols=[column])\n",
    "#     data_bin = bin_encoder.fit_transform(data_coded[column])\n",
    "#     data_coded = pd.concat([data_coded, data_bin], axis=1)\n",
    "#     data_coded = data_coded.drop([column], axis=1)\n",
    "\n",
    "# data_coded = pd.get_dummies(data_coded)\n",
    "\n",
    "# data_coded.head()"
   ]
  },
  {
   "cell_type": "code",
   "execution_count": 2,
   "metadata": {},
   "outputs": [],
   "source": [
    "# # Sample 2 - 34 features\n",
    "# data_coded = data.copy()\n",
    "\n",
    "# label_list = ['baths', 'stories', 'year_built', 'zipcode', 'state'] # label encoding\n",
    "# onehot_cat_list = ['status', 'property_add_type'] # dummy / onehot encoding\n",
    "    \n",
    "# label_encoder = LabelEncoder()\n",
    "# for column in label_list:\n",
    "#     data_coded[column] = label_encoder.fit_transform(data_coded[[column]])\n",
    "# data_coded = pd.get_dummies(data_coded)\n",
    "\n",
    "# data_coded.head()"
   ]
  },
  {
   "cell_type": "code",
   "execution_count": 3,
   "metadata": {},
   "outputs": [],
   "source": [
    "# # Sample 3 - 23 features\n",
    "# data_coded = data.copy()\n",
    "\n",
    "# label_list = ['baths', 'stories', 'year_built', 'zipcode', 'state', 'property_add_type'] # label encoding\n",
    "# onehot_cat_list = ['status'] # dummy / onehot encoding\n",
    "    \n",
    "# label_encoder = LabelEncoder()\n",
    "# for column in label_list:\n",
    "#     data_coded[column] = label_encoder.fit_transform(data_coded[[column]])\n",
    "# data_coded = pd.get_dummies(data_coded)\n",
    "\n",
    "# data_coded.head()"
   ]
  },
  {
   "cell_type": "code",
   "execution_count": 4,
   "metadata": {},
   "outputs": [],
   "source": [
    "# # Sample 4 - 19 features\n",
    "# data_coded = data.copy()\n",
    "\n",
    "# label_list = ['baths', 'stories', 'year_built', 'zipcode', 'state', 'property_add_type', 'status'] # label encoding\n",
    "\n",
    "# label_encoder = LabelEncoder()\n",
    "# for column in label_list:\n",
    "#     data_coded[column] = label_encoder.fit_transform(data_coded[[column]])\n",
    "    \n",
    "# data_coded.head()"
   ]
  },
  {
   "cell_type": "code",
   "execution_count": 5,
   "metadata": {},
   "outputs": [],
   "source": [
    "# # Sample 5 - 61 features\n",
    "# data_coded = data.copy()\n",
    "\n",
    "# label_list = ['baths', 'stories', 'year_built', 'zipcode'] # label encoding\n",
    "# onehot_cat_list = ['status', 'property_add_type', 'state'] # dummy / onehot encoding\n",
    "\n",
    "# label_encoder = LabelEncoder()\n",
    "# for column in label_list:\n",
    "#     data_coded[column] = label_encoder.fit_transform(data_coded[[column]])\n",
    "# data_coded = pd.get_dummies(data_coded)\n",
    "\n",
    "# data_coded.head()"
   ]
  },
  {
   "cell_type": "code",
   "execution_count": 6,
   "metadata": {},
   "outputs": [],
   "source": [
    "# # Sample 6 - 72 features\n",
    "# data_coded = data.copy()\n",
    "\n",
    "# label_list = ['baths', 'year_built'] # label encoding\n",
    "# onehot_cat_list = ['status', 'property_add_type', 'stories', 'state'] # dummy / onehot encoding\n",
    "# binary_cat_list = ['zipcode'] # binary encoding\n",
    "\n",
    "# label_encoder = LabelEncoder()\n",
    "# for column in label_list:\n",
    "#     data_coded[column] = label_encoder.fit_transform(data_coded[[column]])\n",
    "# for column in binary_cat_list:\n",
    "#     bin_encoder = ce.BinaryEncoder(cols=[column])\n",
    "#     data_bin = bin_encoder.fit_transform(data_coded[column])\n",
    "#     data_coded = pd.concat([data_coded, data_bin], axis=1)\n",
    "#     data_coded = data_coded.drop([column], axis=1)\n",
    "# data_coded = pd.get_dummies(data_coded)\n",
    "\n",
    "# data_coded.head()"
   ]
  },
  {
   "cell_type": "code",
   "execution_count": 7,
   "metadata": {},
   "outputs": [],
   "source": [
    "# # Sample 7 - 19 features\n",
    "# data_coded = data.copy()\n",
    "\n",
    "# label_list = [\n",
    "#     'status', 'baths', 'fireplace', 'sqft', 'zipcode', 'state', 'stories', 'year_built', 'heating', 'cooling', \n",
    "#     'parking', 'property_add_type', 'private_pool', 'school_rating', 'school_min_distance', \n",
    "#     'beds_area', 'baths_area', 'lotsize_sqft'] # label encoding\n",
    "\n",
    "# label_encoder = LabelEncoder()\n",
    "# for column in label_list:\n",
    "#     data_coded[column] = label_encoder.fit_transform(data_coded[[column]])\n",
    "\n",
    "# data_coded.head()"
   ]
  }
 ],
 "metadata": {
  "kernelspec": {
   "display_name": "Python 3",
   "language": "python",
   "name": "python3"
  },
  "language_info": {
   "codemirror_mode": {
    "name": "ipython",
    "version": 3
   },
   "file_extension": ".py",
   "mimetype": "text/x-python",
   "name": "python",
   "nbconvert_exporter": "python",
   "pygments_lexer": "ipython3",
   "version": "3.10.12"
  }
 },
 "nbformat": 4,
 "nbformat_minor": 2
}
